{
 "cells": [
  {
   "cell_type": "markdown",
   "metadata": {},
   "source": [
    "**<h1 align=\"center\">Principles of Data Analytics</h1>**\n",
    "\n",
    "\n",
    "# <h1 align=\"center\">Palmer Penguins Exploratory Data Analysis</h1>\n",
    "\n",
    "***"
   ]
  },
  {
   "cell_type": "markdown",
   "metadata": {},
   "source": [
    "<p align=\"center\">\n",
    "<img width=\"528\" height=\"291\" src=\"img/lter_penguins.png\")\n",
    "</p>\n",
    "\n",
    "[Artwork by @allison_horst](https://allisonhorst.github.io/palmerpenguins/articles/art.html)"
   ]
  },
  {
   "cell_type": "markdown",
   "metadata": {},
   "source": [
    "## 1.   Introduction\n",
    "\n",
    "***"
   ]
  },
  {
   "cell_type": "markdown",
   "metadata": {},
   "source": [
    "The [Palmer penguins dataset](https://allisonhorst.github.io/palmerpenguins/) by [Allison Horst](https://allisonhorst.com/), [Alison Hill](https://www.apreshill.com/), and [Kristen Gorman](https://www.uaf.edu/cfos/people/faculty/detail/kristen-gorman.php) is a dataset for data exploration & visualization, as an alternative to the Iris dataset. It was made available in 2020.\n",
    "\n",
    "The dataset contains data for 344 penguins. There are 3 different species of penguins in this dataset, collected from 3 islands in the Palmer Archipelago, Antarctica.\n",
    "\n",
    "Data was collected from 2007 to 2009 by Dr. Kristen Gorman and the [Palmer Station, Antarctica LTER](https://pallter.marine.rutgers.edu/), a member of the [Long Term Ecological Research Network](https://lternet.edu/).\n",
    "\n",
    "More information about the dataset is available in its [official documentation](https://allisonhorst.github.io/palmerpenguins/)."
   ]
  },
  {
   "cell_type": "markdown",
   "metadata": {},
   "source": [
    "## 2.   Imports Libraries\n",
    "\n",
    "***\n",
    "\n",
    "We require the following libraries to analyse the dataset.\n",
    "\n",
    " - Pandas: Fundamental data analysis and manipulation library built on top of the Python programming language. It offers data structures and operations for manipulating numerical tables and time series.\n",
    "\n",
    " - Numpy: It contains functionality for multidimensional arrays, high-level mathematical functions such as linear algebra operations.\n",
    "\n",
    " - Matplotlib: Essential for creating static, animated, and interactive visualizations in Python. It is closely integrated with NumPy and provides a MATLAB-like interface for creating plots and visualizations.\n"
   ]
  },
  {
   "cell_type": "code",
   "execution_count": 6,
   "metadata": {},
   "outputs": [],
   "source": [
    "import pandas as pd\n",
    "import numpy as np\n",
    "import matplotlib.pyplot as plt\n",
    "\n",
    "import warnings\n",
    "warnings.filterwarnings('ignore')\n"
   ]
  },
  {
   "cell_type": "markdown",
   "metadata": {},
   "source": [
    "## 3.   Load data\n",
    "\n",
    "***\n",
    "\n",
    "Load the Palmer Penguins data set from a URL\n",
    "\n",
    "The dataset is available on [GitHub](https://allisonhorst.github.io/palmerpenguins/)."
   ]
  },
  {
   "cell_type": "code",
   "execution_count": 7,
   "metadata": {},
   "outputs": [],
   "source": [
    "df = pd.read_csv(\"https://raw.githubusercontent.com/mwaskom/seaborn-data/master/penguins.csv\")"
   ]
  },
  {
   "cell_type": "markdown",
   "metadata": {},
   "source": [
    "The data is now loaded. The dataset can be displayed as follows.\n",
    "\n",
    "The column heading variables have the following meanings:\n",
    "- Species: Three penguin species (Adelie, Chinstrap, Gentoo).\n",
    "- Island: Three islands (Torgersen, Biscoe, Dream).\n",
    "- Bill_length_mm: penguin’s bill length (mm).\n",
    "- Bill_depth_mm: penguin’s bill depth (mm).\n",
    "- Flipper Length (mm): penguin’s flipper length (mm).\n",
    "- Body Mass (g): penguin’s body mass (g).\n",
    "- Sex: penguin’s sex."
   ]
  },
  {
   "cell_type": "code",
   "execution_count": 8,
   "metadata": {},
   "outputs": [
    {
     "data": {
      "text/html": [
       "<div>\n",
       "<style scoped>\n",
       "    .dataframe tbody tr th:only-of-type {\n",
       "        vertical-align: middle;\n",
       "    }\n",
       "\n",
       "    .dataframe tbody tr th {\n",
       "        vertical-align: top;\n",
       "    }\n",
       "\n",
       "    .dataframe thead th {\n",
       "        text-align: right;\n",
       "    }\n",
       "</style>\n",
       "<table border=\"1\" class=\"dataframe\">\n",
       "  <thead>\n",
       "    <tr style=\"text-align: right;\">\n",
       "      <th></th>\n",
       "      <th>species</th>\n",
       "      <th>island</th>\n",
       "      <th>bill_length_mm</th>\n",
       "      <th>bill_depth_mm</th>\n",
       "      <th>flipper_length_mm</th>\n",
       "      <th>body_mass_g</th>\n",
       "      <th>sex</th>\n",
       "    </tr>\n",
       "  </thead>\n",
       "  <tbody>\n",
       "    <tr>\n",
       "      <th>0</th>\n",
       "      <td>Adelie</td>\n",
       "      <td>Torgersen</td>\n",
       "      <td>39.1</td>\n",
       "      <td>18.7</td>\n",
       "      <td>181.0</td>\n",
       "      <td>3750.0</td>\n",
       "      <td>MALE</td>\n",
       "    </tr>\n",
       "    <tr>\n",
       "      <th>1</th>\n",
       "      <td>Adelie</td>\n",
       "      <td>Torgersen</td>\n",
       "      <td>39.5</td>\n",
       "      <td>17.4</td>\n",
       "      <td>186.0</td>\n",
       "      <td>3800.0</td>\n",
       "      <td>FEMALE</td>\n",
       "    </tr>\n",
       "    <tr>\n",
       "      <th>2</th>\n",
       "      <td>Adelie</td>\n",
       "      <td>Torgersen</td>\n",
       "      <td>40.3</td>\n",
       "      <td>18.0</td>\n",
       "      <td>195.0</td>\n",
       "      <td>3250.0</td>\n",
       "      <td>FEMALE</td>\n",
       "    </tr>\n",
       "    <tr>\n",
       "      <th>3</th>\n",
       "      <td>Adelie</td>\n",
       "      <td>Torgersen</td>\n",
       "      <td>NaN</td>\n",
       "      <td>NaN</td>\n",
       "      <td>NaN</td>\n",
       "      <td>NaN</td>\n",
       "      <td>NaN</td>\n",
       "    </tr>\n",
       "    <tr>\n",
       "      <th>4</th>\n",
       "      <td>Adelie</td>\n",
       "      <td>Torgersen</td>\n",
       "      <td>36.7</td>\n",
       "      <td>19.3</td>\n",
       "      <td>193.0</td>\n",
       "      <td>3450.0</td>\n",
       "      <td>FEMALE</td>\n",
       "    </tr>\n",
       "    <tr>\n",
       "      <th>...</th>\n",
       "      <td>...</td>\n",
       "      <td>...</td>\n",
       "      <td>...</td>\n",
       "      <td>...</td>\n",
       "      <td>...</td>\n",
       "      <td>...</td>\n",
       "      <td>...</td>\n",
       "    </tr>\n",
       "    <tr>\n",
       "      <th>339</th>\n",
       "      <td>Gentoo</td>\n",
       "      <td>Biscoe</td>\n",
       "      <td>NaN</td>\n",
       "      <td>NaN</td>\n",
       "      <td>NaN</td>\n",
       "      <td>NaN</td>\n",
       "      <td>NaN</td>\n",
       "    </tr>\n",
       "    <tr>\n",
       "      <th>340</th>\n",
       "      <td>Gentoo</td>\n",
       "      <td>Biscoe</td>\n",
       "      <td>46.8</td>\n",
       "      <td>14.3</td>\n",
       "      <td>215.0</td>\n",
       "      <td>4850.0</td>\n",
       "      <td>FEMALE</td>\n",
       "    </tr>\n",
       "    <tr>\n",
       "      <th>341</th>\n",
       "      <td>Gentoo</td>\n",
       "      <td>Biscoe</td>\n",
       "      <td>50.4</td>\n",
       "      <td>15.7</td>\n",
       "      <td>222.0</td>\n",
       "      <td>5750.0</td>\n",
       "      <td>MALE</td>\n",
       "    </tr>\n",
       "    <tr>\n",
       "      <th>342</th>\n",
       "      <td>Gentoo</td>\n",
       "      <td>Biscoe</td>\n",
       "      <td>45.2</td>\n",
       "      <td>14.8</td>\n",
       "      <td>212.0</td>\n",
       "      <td>5200.0</td>\n",
       "      <td>FEMALE</td>\n",
       "    </tr>\n",
       "    <tr>\n",
       "      <th>343</th>\n",
       "      <td>Gentoo</td>\n",
       "      <td>Biscoe</td>\n",
       "      <td>49.9</td>\n",
       "      <td>16.1</td>\n",
       "      <td>213.0</td>\n",
       "      <td>5400.0</td>\n",
       "      <td>MALE</td>\n",
       "    </tr>\n",
       "  </tbody>\n",
       "</table>\n",
       "<p>344 rows × 7 columns</p>\n",
       "</div>"
      ],
      "text/plain": [
       "    species     island  bill_length_mm  bill_depth_mm  flipper_length_mm  \\\n",
       "0    Adelie  Torgersen            39.1           18.7              181.0   \n",
       "1    Adelie  Torgersen            39.5           17.4              186.0   \n",
       "2    Adelie  Torgersen            40.3           18.0              195.0   \n",
       "3    Adelie  Torgersen             NaN            NaN                NaN   \n",
       "4    Adelie  Torgersen            36.7           19.3              193.0   \n",
       "..      ...        ...             ...            ...                ...   \n",
       "339  Gentoo     Biscoe             NaN            NaN                NaN   \n",
       "340  Gentoo     Biscoe            46.8           14.3              215.0   \n",
       "341  Gentoo     Biscoe            50.4           15.7              222.0   \n",
       "342  Gentoo     Biscoe            45.2           14.8              212.0   \n",
       "343  Gentoo     Biscoe            49.9           16.1              213.0   \n",
       "\n",
       "     body_mass_g     sex  \n",
       "0         3750.0    MALE  \n",
       "1         3800.0  FEMALE  \n",
       "2         3250.0  FEMALE  \n",
       "3            NaN     NaN  \n",
       "4         3450.0  FEMALE  \n",
       "..           ...     ...  \n",
       "339          NaN     NaN  \n",
       "340       4850.0  FEMALE  \n",
       "341       5750.0    MALE  \n",
       "342       5200.0  FEMALE  \n",
       "343       5400.0    MALE  \n",
       "\n",
       "[344 rows x 7 columns]"
      ]
     },
     "execution_count": 8,
     "metadata": {},
     "output_type": "execute_result"
    }
   ],
   "source": [
    "df"
   ]
  },
  {
   "cell_type": "markdown",
   "metadata": {},
   "source": [
    "## 4.   Data Exploration\n",
    "\n",
    "***"
   ]
  },
  {
   "cell_type": "markdown",
   "metadata": {},
   "source": [
    "### 4.1 Check for the DataFrame dimensionality with pandas .info() method\n",
    "\n",
    "**Rationale:** \n",
    "The .info() method in Pandas provides valuable insights about the DataFrame. The information contains the number of columns, column labels, column data types, memory usage, range index, and the number of cells in each column (non-null values). The info() method does not return any value, it prints the information. [[1]](https://www.w3schools.com/python/pandas/ref_df_info.asp) \n",
    "\n",
    "The output of the .info() method consists of several key components: [[2]](https://machinelearningtutorials.org/a-comprehensive-guide-to-using-the-pandas-dataframe-info-method/)\n",
    "\n",
    "- The total number of rows (entries) in the DataFrame.\n",
    "\n",
    "- A summary of each column, including:\n",
    "  - The column name\n",
    "  - The number of non-null values\n",
    "  - The data type of the column\n",
    "  - The memory usage of the column\n",
    "\n",
    "\n",
    "**Findings:**\n",
    "\n",
    "From this output, we can gather the following information:\n",
    "\n",
    "- The DataFrame contains 344 rows and 7 columns.\n",
    "- The columns are: species, island, bill_length_mm, bill_depth_mm, flipper_length_mm, body_mass_g and sex.\n",
    "- Some columns have non-null values, indicating that there are missing values in this dataset. Five variables of the columns have missing values.\n",
    "- Four quantitative variables are numeric with type float64: bill length in mm, bill depth in mm, flipper length in mm, and body mass in grams.\n",
    "- Three qualitative variables are categorical with type object: species, island, and sex.\n",
    "- The memory usage of this DataFrame is approximately 18.9 KB.\n",
    "\n",
    "\n",
    "###### [1] [w3schools Pandas DataFrame info() Method](https://www.w3schools.com/python/pandas/ref_df_info.asp)\n",
    "###### [2] [Understanding the .info output - Machine Learning Tutorials](https://machinelearningtutorials.org/a-comprehensive-guide-to-using-the-pandas-dataframe-info-method/)"
   ]
  },
  {
   "cell_type": "code",
   "execution_count": 4,
   "metadata": {},
   "outputs": [
    {
     "name": "stdout",
     "output_type": "stream",
     "text": [
      "<class 'pandas.core.frame.DataFrame'>\n",
      "RangeIndex: 344 entries, 0 to 343\n",
      "Data columns (total 7 columns):\n",
      " #   Column             Non-Null Count  Dtype  \n",
      "---  ------             --------------  -----  \n",
      " 0   species            344 non-null    object \n",
      " 1   island             344 non-null    object \n",
      " 2   bill_length_mm     342 non-null    float64\n",
      " 3   bill_depth_mm      342 non-null    float64\n",
      " 4   flipper_length_mm  342 non-null    float64\n",
      " 5   body_mass_g        342 non-null    float64\n",
      " 6   sex                333 non-null    object \n",
      "dtypes: float64(4), object(3)\n",
      "memory usage: 18.9+ KB\n"
     ]
    }
   ],
   "source": [
    "df.info()"
   ]
  },
  {
   "cell_type": "markdown",
   "metadata": {},
   "source": [
    "### 4.2 Selecting data by row numbers (.iloc)\n",
    "\n",
    "**Rationale:** \n",
    "\n",
    "The iloc property gets, or sets, the value(s) of the specified indexes. It specifies both row and column with an index. In this example, we look at row 1 in detail. [[3]](https://pandas.pydata.org/pandas-docs/stable/reference/api/pandas.DataFrame.iloc.html)\n",
    "\n",
    "**Findings:**\n",
    "- Row 1 is a Male Adelie Penguin on Torgersen island.\n",
    "- Bill Length is 39.1mm, bill depth is 18.7mm\n",
    "- Flipper Length is 181mm\n",
    "- Body Mass is 3750g\n",
    "\n",
    "###### [3] [Pandas Documentation on pandas.DataFrame.iloc](https://pandas.pydata.org/pandas-docs/stable/reference/api/pandas.DataFrame.iloc.html)\n"
   ]
  },
  {
   "cell_type": "markdown",
   "metadata": {},
   "source": [
    "\n",
    "<p align=\"center\">\n",
    "<img width=\"428\" height=\"291\" src=\"https://allisonhorst.github.io/palmerpenguins/reference/figures/culmen_depth.png\")\n",
    "</p>\n",
    "\n",
    "[Artwork by @allison_horst](https://allisonhorst.github.io/palmerpenguins/articles/art.html)\n",
    "\n",
    "For this penguin data, the bill/culmen length and depth are measured as shown below."
   ]
  },
  {
   "cell_type": "code",
   "execution_count": 5,
   "metadata": {},
   "outputs": [
    {
     "data": {
      "text/plain": [
       "species                 Adelie\n",
       "island               Torgersen\n",
       "bill_length_mm            39.1\n",
       "bill_depth_mm             18.7\n",
       "flipper_length_mm        181.0\n",
       "body_mass_g             3750.0\n",
       "sex                       MALE\n",
       "Name: 0, dtype: object"
      ]
     },
     "execution_count": 5,
     "metadata": {},
     "output_type": "execute_result"
    }
   ],
   "source": [
    "df.iloc [0]"
   ]
  },
  {
   "cell_type": "markdown",
   "metadata": {},
   "source": [
    "### 4.3 Generate descriptive statistics with pandas .describe method\n",
    "\n",
    "**Rationale:** \n",
    "\n",
    "This analysis provides generalized descriptive statistics that summarises the central tendency of the data, the dispersion, and the shape of the dataset’s distribution. It also provides helpful information on missing NaN data. It includes the following statistics: [[4]](https://www.pythonlore.com/exploring-pandas-dataframe-describe-for-descriptive-statistics/)  [[5]](https://pandas.pydata.org/pandas-docs/version/0.20.2/generated/pandas.DataFrame.describe.html)\n",
    "By default, the describe() function only generates descriptive statistics for numeric columns in a pandas DataFrame. I specifying include='all' which will force pandas to generate summaries for all columns in the dataframe. Some data types don’t have any information. Pandas marks them as NaN.\n",
    "\n",
    "\n",
    "- Count: This represents the number of non-null (non-empty) values in the dataset for each column.\n",
    "\n",
    "- Unique: This will show the number of unique values in the column\n",
    "\n",
    "- Top: Ths will display the most common value in the column\n",
    "\n",
    "- Frequency: This will show the frequency of the top value within the column.\n",
    "\n",
    "- Mean: This will display the average value for each column.\n",
    "\n",
    "- Standard deviation: It indicates how spread out the values are around the mean. A higher standard deviation means the values are more spread out from the mean, while a lower standard deviation means the values are closer to the mean.\n",
    "\n",
    "- Minimum: It represents the lowest value in each column.\n",
    "\n",
    "- The default percentiles of the describe function are 25th, 50th, and 75th percentile or (0.25, 0.5, and 0.75).\n",
    "  \n",
    "- First quartile (25th percentile): 25% of the data values are below this value.\n",
    "\n",
    "- Second quartile (50th percentile): It represents the median, the middle value of the dataset.\n",
    "\n",
    "- Third quartile (75th percentile): 75% of the data values are below this value.\n",
    "\n",
    "- Maximum: It represents the highest value in the dataset.\n",
    "\n",
    "\n",
    "**Findings:**\n",
    "\n",
    "Key interpretations can be made from this function, both for the quantitative and qualitative data. \n",
    "\n",
    "Null values: Confirming the observations made from .info, the count of rows does not match the count of values for bill_length_mm, bill_depth_mm, flipper_length_mm, body_mass_g, and sex.\n",
    "\n",
    "Outliers: body_mass_g max values are greater than the mean, median and 75th percentile, which could indicate the presence of outliers.\n",
    "\n",
    "Number of classes: sex column contains two categories, while species and islands have three different categories. \n",
    "\n",
    "###### [4] [Understanding the Output of pandas.DataFrame.describe](https://www.pythonlore.com/exploring-pandas-dataframe-describe-for-descriptive-statistics/)\n",
    "###### [5] [Pandas Documentation on pandas.DataFrame.describe](https://pandas.pydata.org/pandas-docs/version/0.20.2/generated/pandas.DataFrame.describe.html)"
   ]
  },
  {
   "cell_type": "code",
   "execution_count": 4,
   "metadata": {},
   "outputs": [
    {
     "ename": "NameError",
     "evalue": "name 'df' is not defined",
     "output_type": "error",
     "traceback": [
      "\u001b[1;31m---------------------------------------------------------------------------\u001b[0m",
      "\u001b[1;31mNameError\u001b[0m                                 Traceback (most recent call last)",
      "Cell \u001b[1;32mIn[4], line 1\u001b[0m\n\u001b[1;32m----> 1\u001b[0m df\u001b[38;5;241m.\u001b[39mdescribe(include\u001b[38;5;241m=\u001b[39m\u001b[38;5;124m'\u001b[39m\u001b[38;5;124mall\u001b[39m\u001b[38;5;124m'\u001b[39m)\n",
      "\u001b[1;31mNameError\u001b[0m: name 'df' is not defined"
     ]
    }
   ],
   "source": [
    "df.describe(include='all')\n"
   ]
  },
  {
   "cell_type": "markdown",
   "metadata": {},
   "source": [
    "## 5.   Cleaning the Dataset\n",
    "\n",
    "***"
   ]
  },
  {
   "cell_type": "markdown",
   "metadata": {},
   "source": [
    "Before analysis, we must clean the dataset, this might involve removing rows with NaN values, dropping unecessary or constant columns, and improving readability. It is important to understand the sources of missing data. Missing Data can occur when no information is provided for one or more items or for a whole unit. In DataFrames many datasets simply arrive with missing data, either because it exists and was not collected or it never existed. In this dataset, NaN (an acronym for Not a Number) is entered on numerous occasions. Nan is a special floating-point value recognized by all systems that use the standard IEEE floating-point representation [[6]](https://en.wikipedia.org/wiki/IEEE_754). \n",
    "\n",
    "\n",
    "###### [6] [IEEE 754: Wikipedia](https://en.wikipedia.org/wiki/IEEE_754)"
   ]
  },
  {
   "cell_type": "markdown",
   "metadata": {},
   "source": [
    "### 5.1 Working with missing data\n",
    "\n",
    "Firstly I have used the isnull() method which returns a DataFrame object where all the values are replaced with a Boolean value True for NULL values, and otherwise False. To ensure we capture all formats, I have included possible missing value inputs in a list.  [[7]](https://towardsdatascience.com/data-cleaning-with-python-and-pandas-detecting-missing-values-3e9c6ebcf78b)\n",
    "\n",
    "We can confirm that lines 3 & 339 which have “NaN” were recognized as missing values. Both rows boolean responses are True. But we need to check if there are further missing fields in the dataset,\n",
    "\n",
    "###### [7] [Data Cleaning with Python and Pandas: Detecting Missing Values](https://towardsdatascience.com/data-cleaning-with-python-and-pandas-detecting-missing-values-3e9c6ebcf78b)"
   ]
  },
  {
   "cell_type": "code",
   "execution_count": 7,
   "metadata": {},
   "outputs": [
    {
     "data": {
      "text/html": [
       "<div>\n",
       "<style scoped>\n",
       "    .dataframe tbody tr th:only-of-type {\n",
       "        vertical-align: middle;\n",
       "    }\n",
       "\n",
       "    .dataframe tbody tr th {\n",
       "        vertical-align: top;\n",
       "    }\n",
       "\n",
       "    .dataframe thead th {\n",
       "        text-align: right;\n",
       "    }\n",
       "</style>\n",
       "<table border=\"1\" class=\"dataframe\">\n",
       "  <thead>\n",
       "    <tr style=\"text-align: right;\">\n",
       "      <th></th>\n",
       "      <th>species</th>\n",
       "      <th>island</th>\n",
       "      <th>bill_length_mm</th>\n",
       "      <th>bill_depth_mm</th>\n",
       "      <th>flipper_length_mm</th>\n",
       "      <th>body_mass_g</th>\n",
       "      <th>sex</th>\n",
       "    </tr>\n",
       "  </thead>\n",
       "  <tbody>\n",
       "    <tr>\n",
       "      <th>0</th>\n",
       "      <td>False</td>\n",
       "      <td>False</td>\n",
       "      <td>False</td>\n",
       "      <td>False</td>\n",
       "      <td>False</td>\n",
       "      <td>False</td>\n",
       "      <td>False</td>\n",
       "    </tr>\n",
       "    <tr>\n",
       "      <th>1</th>\n",
       "      <td>False</td>\n",
       "      <td>False</td>\n",
       "      <td>False</td>\n",
       "      <td>False</td>\n",
       "      <td>False</td>\n",
       "      <td>False</td>\n",
       "      <td>False</td>\n",
       "    </tr>\n",
       "    <tr>\n",
       "      <th>2</th>\n",
       "      <td>False</td>\n",
       "      <td>False</td>\n",
       "      <td>False</td>\n",
       "      <td>False</td>\n",
       "      <td>False</td>\n",
       "      <td>False</td>\n",
       "      <td>False</td>\n",
       "    </tr>\n",
       "    <tr>\n",
       "      <th>3</th>\n",
       "      <td>False</td>\n",
       "      <td>False</td>\n",
       "      <td>True</td>\n",
       "      <td>True</td>\n",
       "      <td>True</td>\n",
       "      <td>True</td>\n",
       "      <td>True</td>\n",
       "    </tr>\n",
       "    <tr>\n",
       "      <th>4</th>\n",
       "      <td>False</td>\n",
       "      <td>False</td>\n",
       "      <td>False</td>\n",
       "      <td>False</td>\n",
       "      <td>False</td>\n",
       "      <td>False</td>\n",
       "      <td>False</td>\n",
       "    </tr>\n",
       "    <tr>\n",
       "      <th>...</th>\n",
       "      <td>...</td>\n",
       "      <td>...</td>\n",
       "      <td>...</td>\n",
       "      <td>...</td>\n",
       "      <td>...</td>\n",
       "      <td>...</td>\n",
       "      <td>...</td>\n",
       "    </tr>\n",
       "    <tr>\n",
       "      <th>339</th>\n",
       "      <td>False</td>\n",
       "      <td>False</td>\n",
       "      <td>True</td>\n",
       "      <td>True</td>\n",
       "      <td>True</td>\n",
       "      <td>True</td>\n",
       "      <td>True</td>\n",
       "    </tr>\n",
       "    <tr>\n",
       "      <th>340</th>\n",
       "      <td>False</td>\n",
       "      <td>False</td>\n",
       "      <td>False</td>\n",
       "      <td>False</td>\n",
       "      <td>False</td>\n",
       "      <td>False</td>\n",
       "      <td>False</td>\n",
       "    </tr>\n",
       "    <tr>\n",
       "      <th>341</th>\n",
       "      <td>False</td>\n",
       "      <td>False</td>\n",
       "      <td>False</td>\n",
       "      <td>False</td>\n",
       "      <td>False</td>\n",
       "      <td>False</td>\n",
       "      <td>False</td>\n",
       "    </tr>\n",
       "    <tr>\n",
       "      <th>342</th>\n",
       "      <td>False</td>\n",
       "      <td>False</td>\n",
       "      <td>False</td>\n",
       "      <td>False</td>\n",
       "      <td>False</td>\n",
       "      <td>False</td>\n",
       "      <td>False</td>\n",
       "    </tr>\n",
       "    <tr>\n",
       "      <th>343</th>\n",
       "      <td>False</td>\n",
       "      <td>False</td>\n",
       "      <td>False</td>\n",
       "      <td>False</td>\n",
       "      <td>False</td>\n",
       "      <td>False</td>\n",
       "      <td>False</td>\n",
       "    </tr>\n",
       "  </tbody>\n",
       "</table>\n",
       "<p>344 rows × 7 columns</p>\n",
       "</div>"
      ],
      "text/plain": [
       "     species  island  bill_length_mm  bill_depth_mm  flipper_length_mm  \\\n",
       "0      False   False           False          False              False   \n",
       "1      False   False           False          False              False   \n",
       "2      False   False           False          False              False   \n",
       "3      False   False            True           True               True   \n",
       "4      False   False           False          False              False   \n",
       "..       ...     ...             ...            ...                ...   \n",
       "339    False   False            True           True               True   \n",
       "340    False   False           False          False              False   \n",
       "341    False   False           False          False              False   \n",
       "342    False   False           False          False              False   \n",
       "343    False   False           False          False              False   \n",
       "\n",
       "     body_mass_g    sex  \n",
       "0          False  False  \n",
       "1          False  False  \n",
       "2          False  False  \n",
       "3           True   True  \n",
       "4          False  False  \n",
       "..           ...    ...  \n",
       "339         True   True  \n",
       "340        False  False  \n",
       "341        False  False  \n",
       "342        False  False  \n",
       "343        False  False  \n",
       "\n",
       "[344 rows x 7 columns]"
      ]
     },
     "execution_count": 7,
     "metadata": {},
     "output_type": "execute_result"
    }
   ],
   "source": [
    "missing_values = [\"n/a\", \"na\", \"--\", \"NaN\", \"\"]\n",
    "df = pd.read_csv((\"https://raw.githubusercontent.com/mwaskom/seaborn-data/master/penguins.csv\"), na_values = missing_values)\n",
    "df.isnull()\n"
   ]
  },
  {
   "cell_type": "markdown",
   "metadata": {},
   "source": [
    "### 5.2 Identify missing values\n",
    "\n",
    "Following the isnull() method above, we can confirm that lines 3 & 339 have missing values. But we need to check if there are further missing fields in the dataset, as line 3 & 3369 account for 10 missing/incomplete fields.  [[7]](https://towardsdatascience.com/data-cleaning-with-python-and-pandas-detecting-missing-values-3e9c6ebcf78b). \n",
    "There are 19 missing values in total. \n",
    "\n",
    "###### [7] [Data Cleaning with Python and Pandas: Detecting Missing Values](https://towardsdatascience.com/data-cleaning-with-python-and-pandas-detecting-missing-values-3e9c6ebcf78b)"
   ]
  },
  {
   "cell_type": "code",
   "execution_count": 8,
   "metadata": {},
   "outputs": [
    {
     "data": {
      "text/plain": [
       "19"
      ]
     },
     "execution_count": 8,
     "metadata": {},
     "output_type": "execute_result"
    }
   ],
   "source": [
    "df.isnull().sum().sum()"
   ]
  },
  {
   "cell_type": "markdown",
   "metadata": {},
   "source": [
    "Lets have a look at the total number of missing values for each variable. We can now determine where all of the missing data lies. Line 3 and 339 can be removed. There are also 9 missing values in the variable 'sex'. We need to identify them. "
   ]
  },
  {
   "cell_type": "code",
   "execution_count": 9,
   "metadata": {},
   "outputs": [
    {
     "data": {
      "text/plain": [
       "species               0\n",
       "island                0\n",
       "bill_length_mm        2\n",
       "bill_depth_mm         2\n",
       "flipper_length_mm     2\n",
       "body_mass_g           2\n",
       "sex                  11\n",
       "dtype: int64"
      ]
     },
     "execution_count": 9,
     "metadata": {},
     "output_type": "execute_result"
    }
   ],
   "source": [
    "df.isnull().sum()\n"
   ]
  },
  {
   "cell_type": "markdown",
   "metadata": {},
   "source": [
    "We can also remove the addition lines below from the dataset. We can use .isna() to detect these missing values. The isna() function returns a boolean (True or False) value if the column value is missing. [[8]](https://machinelearningtutorials.org/pandas-isna-function-checking-for-missing-values-with-examples/)\n",
    "\n",
    "###### [8] [Pandas isna() Function: Checking for Missing Values](https://machinelearningtutorials.org/pandas-isna-function-checking-for-missing-values-with-examples/)"
   ]
  },
  {
   "cell_type": "code",
   "execution_count": 10,
   "metadata": {},
   "outputs": [
    {
     "data": {
      "text/html": [
       "<div>\n",
       "<style scoped>\n",
       "    .dataframe tbody tr th:only-of-type {\n",
       "        vertical-align: middle;\n",
       "    }\n",
       "\n",
       "    .dataframe tbody tr th {\n",
       "        vertical-align: top;\n",
       "    }\n",
       "\n",
       "    .dataframe thead th {\n",
       "        text-align: right;\n",
       "    }\n",
       "</style>\n",
       "<table border=\"1\" class=\"dataframe\">\n",
       "  <thead>\n",
       "    <tr style=\"text-align: right;\">\n",
       "      <th></th>\n",
       "      <th>species</th>\n",
       "      <th>island</th>\n",
       "      <th>bill_length_mm</th>\n",
       "      <th>bill_depth_mm</th>\n",
       "      <th>flipper_length_mm</th>\n",
       "      <th>body_mass_g</th>\n",
       "      <th>sex</th>\n",
       "    </tr>\n",
       "  </thead>\n",
       "  <tbody>\n",
       "    <tr>\n",
       "      <th>3</th>\n",
       "      <td>Adelie</td>\n",
       "      <td>Torgersen</td>\n",
       "      <td>NaN</td>\n",
       "      <td>NaN</td>\n",
       "      <td>NaN</td>\n",
       "      <td>NaN</td>\n",
       "      <td>NaN</td>\n",
       "    </tr>\n",
       "    <tr>\n",
       "      <th>8</th>\n",
       "      <td>Adelie</td>\n",
       "      <td>Torgersen</td>\n",
       "      <td>34.1</td>\n",
       "      <td>18.1</td>\n",
       "      <td>193.0</td>\n",
       "      <td>3475.0</td>\n",
       "      <td>NaN</td>\n",
       "    </tr>\n",
       "    <tr>\n",
       "      <th>9</th>\n",
       "      <td>Adelie</td>\n",
       "      <td>Torgersen</td>\n",
       "      <td>42.0</td>\n",
       "      <td>20.2</td>\n",
       "      <td>190.0</td>\n",
       "      <td>4250.0</td>\n",
       "      <td>NaN</td>\n",
       "    </tr>\n",
       "    <tr>\n",
       "      <th>10</th>\n",
       "      <td>Adelie</td>\n",
       "      <td>Torgersen</td>\n",
       "      <td>37.8</td>\n",
       "      <td>17.1</td>\n",
       "      <td>186.0</td>\n",
       "      <td>3300.0</td>\n",
       "      <td>NaN</td>\n",
       "    </tr>\n",
       "    <tr>\n",
       "      <th>11</th>\n",
       "      <td>Adelie</td>\n",
       "      <td>Torgersen</td>\n",
       "      <td>37.8</td>\n",
       "      <td>17.3</td>\n",
       "      <td>180.0</td>\n",
       "      <td>3700.0</td>\n",
       "      <td>NaN</td>\n",
       "    </tr>\n",
       "    <tr>\n",
       "      <th>47</th>\n",
       "      <td>Adelie</td>\n",
       "      <td>Dream</td>\n",
       "      <td>37.5</td>\n",
       "      <td>18.9</td>\n",
       "      <td>179.0</td>\n",
       "      <td>2975.0</td>\n",
       "      <td>NaN</td>\n",
       "    </tr>\n",
       "    <tr>\n",
       "      <th>246</th>\n",
       "      <td>Gentoo</td>\n",
       "      <td>Biscoe</td>\n",
       "      <td>44.5</td>\n",
       "      <td>14.3</td>\n",
       "      <td>216.0</td>\n",
       "      <td>4100.0</td>\n",
       "      <td>NaN</td>\n",
       "    </tr>\n",
       "    <tr>\n",
       "      <th>286</th>\n",
       "      <td>Gentoo</td>\n",
       "      <td>Biscoe</td>\n",
       "      <td>46.2</td>\n",
       "      <td>14.4</td>\n",
       "      <td>214.0</td>\n",
       "      <td>4650.0</td>\n",
       "      <td>NaN</td>\n",
       "    </tr>\n",
       "    <tr>\n",
       "      <th>324</th>\n",
       "      <td>Gentoo</td>\n",
       "      <td>Biscoe</td>\n",
       "      <td>47.3</td>\n",
       "      <td>13.8</td>\n",
       "      <td>216.0</td>\n",
       "      <td>4725.0</td>\n",
       "      <td>NaN</td>\n",
       "    </tr>\n",
       "    <tr>\n",
       "      <th>336</th>\n",
       "      <td>Gentoo</td>\n",
       "      <td>Biscoe</td>\n",
       "      <td>44.5</td>\n",
       "      <td>15.7</td>\n",
       "      <td>217.0</td>\n",
       "      <td>4875.0</td>\n",
       "      <td>NaN</td>\n",
       "    </tr>\n",
       "    <tr>\n",
       "      <th>339</th>\n",
       "      <td>Gentoo</td>\n",
       "      <td>Biscoe</td>\n",
       "      <td>NaN</td>\n",
       "      <td>NaN</td>\n",
       "      <td>NaN</td>\n",
       "      <td>NaN</td>\n",
       "      <td>NaN</td>\n",
       "    </tr>\n",
       "  </tbody>\n",
       "</table>\n",
       "</div>"
      ],
      "text/plain": [
       "    species     island  bill_length_mm  bill_depth_mm  flipper_length_mm  \\\n",
       "3    Adelie  Torgersen             NaN            NaN                NaN   \n",
       "8    Adelie  Torgersen            34.1           18.1              193.0   \n",
       "9    Adelie  Torgersen            42.0           20.2              190.0   \n",
       "10   Adelie  Torgersen            37.8           17.1              186.0   \n",
       "11   Adelie  Torgersen            37.8           17.3              180.0   \n",
       "47   Adelie      Dream            37.5           18.9              179.0   \n",
       "246  Gentoo     Biscoe            44.5           14.3              216.0   \n",
       "286  Gentoo     Biscoe            46.2           14.4              214.0   \n",
       "324  Gentoo     Biscoe            47.3           13.8              216.0   \n",
       "336  Gentoo     Biscoe            44.5           15.7              217.0   \n",
       "339  Gentoo     Biscoe             NaN            NaN                NaN   \n",
       "\n",
       "     body_mass_g  sex  \n",
       "3            NaN  NaN  \n",
       "8         3475.0  NaN  \n",
       "9         4250.0  NaN  \n",
       "10        3300.0  NaN  \n",
       "11        3700.0  NaN  \n",
       "47        2975.0  NaN  \n",
       "246       4100.0  NaN  \n",
       "286       4650.0  NaN  \n",
       "324       4725.0  NaN  \n",
       "336       4875.0  NaN  \n",
       "339          NaN  NaN  "
      ]
     },
     "execution_count": 10,
     "metadata": {},
     "output_type": "execute_result"
    }
   ],
   "source": [
    "df[df['sex'].isna()]"
   ]
  },
  {
   "cell_type": "markdown",
   "metadata": {},
   "source": [
    "### 5.3 Remove missing values and reset index\n",
    "\n",
    "We need to drop rows with at least one Nan value (Null value). All # 19 'NaN' values are displayed above in 11 rows. Rows 3, 8 9, 10, 11, 47, 246, 286, 324, 336 and 339 will be removed using the drop function. This function drops the rows selected which have at least one element missing. [[9]](https://www.geeksforgeeks.org/working-with-missing-data-in-pandas/).\n",
    "\n",
    "Following the removal of lines wIth missing values, the data has been reduced to 333 rows and 7 columns. \n",
    "\n",
    "As we have dropped a number of rows, we must reset the index of the data set. We will use the function df.reset_index() which will reset the index to default integers starting from 0 and adds the old index values as a new column in the DataFrame. When we reset the index, the old index is added as a column, and a new sequential index is used. To avoid this we can use the drop parameter to ensure the old index is not added as an additional column [[10]](https://www.statology.org/pandas-reset-index-after-dropna/)\n",
    "\n",
    "\n",
    "###### [9] [Working with Missing Data in Pandas](https://www.geeksforgeeks.org/working-with-missing-data-in-pandas//)\n",
    "\n",
    "###### [10] [Reset Index in Pandas After Using dropna()](https://www.statology.org/pandas-reset-index-after-dropna/)\n"
   ]
  },
  {
   "cell_type": "code",
   "execution_count": 3,
   "metadata": {},
   "outputs": [
    {
     "ename": "NameError",
     "evalue": "name 'df' is not defined",
     "output_type": "error",
     "traceback": [
      "\u001b[1;31m---------------------------------------------------------------------------\u001b[0m",
      "\u001b[1;31mNameError\u001b[0m                                 Traceback (most recent call last)",
      "Cell \u001b[1;32mIn[3], line 1\u001b[0m\n\u001b[1;32m----> 1\u001b[0m df\u001b[38;5;241m=\u001b[39mdf\u001b[38;5;241m.\u001b[39mdropna()\u001b[38;5;241m.\u001b[39mreset_index(drop\u001b[38;5;241m=\u001b[39m\u001b[38;5;28;01mTrue\u001b[39;00m)\n\u001b[0;32m      2\u001b[0m df\n",
      "\u001b[1;31mNameError\u001b[0m: name 'df' is not defined"
     ]
    }
   ],
   "source": [
    "df=df.dropna().reset_index(drop=True)\n",
    "df"
   ]
  },
  {
   "cell_type": "markdown",
   "metadata": {},
   "source": [
    "### 5.4 Check the data\n",
    "\n",
    "Before we move onto the analysis of the data, we need to check and ensure we have successfully cleaned our data set. We can check this using the df.isnull().sum() function.\n",
    "There are no missing values int he dataset."
   ]
  },
  {
   "cell_type": "code",
   "execution_count": 12,
   "metadata": {},
   "outputs": [
    {
     "data": {
      "text/plain": [
       "species              0\n",
       "island               0\n",
       "bill_length_mm       0\n",
       "bill_depth_mm        0\n",
       "flipper_length_mm    0\n",
       "body_mass_g          0\n",
       "sex                  0\n",
       "dtype: int64"
      ]
     },
     "execution_count": 12,
     "metadata": {},
     "output_type": "execute_result"
    }
   ],
   "source": [
    "df.isnull().sum()"
   ]
  },
  {
   "cell_type": "markdown",
   "metadata": {},
   "source": [
    "## 6.   Data Analysis\n",
    "\n",
    "***"
   ]
  },
  {
   "cell_type": "markdown",
   "metadata": {},
   "source": [
    "### 6.1 Univariate Analysis\n",
    "\n",
    "Univariate analysis focuses on understanding each variable in isolation. It’s the simplest form of analyzing data where each variable can be analysed separately. Univariate analysis provides insights into the range, central tendency, dispersion, and shape of the distribution of each variable. [[11]](https://medium.com/@nomannayeem/mastering-exploratory-data-analysis-eda-a-comprehensive-python-pandas-guide-for-data-insights-c0be7c5b8889)\n",
    "\n",
    "Techniques for Univariate Analysis:\n",
    "\n",
    " - Histograms: Excellent for visually representing the distribution of a single continuous variable.\n",
    " - Box Plots: Valuable for identifying outliers and grasping the data's dispersion.\n",
    " - Count Plots: Ideal for categorical data, illustrating the frequency of each category.\n",
    " - Pie Charts: Visually engaging method to display the proportion of categories within a variable.\n",
    " - Bar Charts: Another effective means of depicting the frequency distribution of categorical data.\n",
    "\n",
    "I will be creating a bar chart and a a histogram of a variable in the data set for Task 4. I will be taking a stateless approach. The key difference between stateful and stateless is whether an application retains information about the current state of a user's interactions or if it treats each request as an independent, isolated transaction. The advantages of a stateless approach are scalability, fault tolerant, lower resources and simplicity. It was recommended during Week 8: Video 4 '08_best_fit' to use a stateless approach [[12]](https://realpython.com/lessons/stateful-vs-stateless-approach/) [[13]](https://www.redhat.com/en/topics/cloud-native-apps/stateful-vs-stateless) [[14]](https://atlantictu-my.sharepoint.com/personal/ian_mcloughlin_atu_ie/_layouts/15/stream.aspx?id=%2Fpersonal%2Fian_mcloughlin_atu_ie%2FDocuments%2Fstudent_shares%2Fprinciples_of_data_analytics%2F08_best_fit%2Ft08v04_best_fit%2Emkv&referrer=OneDriveForBusiness&referrerScenario=OpenFile)\n",
    "\n",
    "\n",
    "###### [11] [Mastering Exploratory Data Analysis (EDA): A Comprehensive Python (Pandas) Guide for Data Insights and Storytelling](https://medium.com/@nomannayeem/mastering-exploratory-data-analysis-eda-a-comprehensive-python-pandas-guide-for-data-insights-c0be7c5b8889)\n",
    "###### [12] [Real Python: Stateful vs Stateless Approach](https://realpython.com/lessons/stateful-vs-stateless-approach/)\n",
    "\n",
    "###### [13] [Stateful vs stateless - Explained](https://www.redhat.com/en/topics/cloud-native-apps/stateful-vs-stateless)\n",
    "\n",
    "###### [14] [Lecture 8: Video 4 - Ian McLoughlin -recommendation on stateless approach](https://atlantictu-my.sharepoint.com/personal/ian_mcloughlin_atu_ie/_layouts/15/stream.aspx?id=%2Fpersonal%2Fian_mcloughlin_atu_ie%2FDocuments%2Fstudent_shares%2Fprinciples_of_data_analytics%2F08_best_fit%2Ft08v04_best_fit%2Emkv&referrer=OneDriveForBusiness&referrerScenario=OpenFile)"
   ]
  },
  {
   "cell_type": "markdown",
   "metadata": {},
   "source": [
    "#### 6.1.1 Bar Chart (Task 4)\n",
    "\n",
    "\n",
    "\n",
    "\n"
   ]
  },
  {
   "cell_type": "markdown",
   "metadata": {},
   "source": [
    "**Rationale:** Firstly, I want to explore the Island Data (Categorical variable). I will be analysing the number of penguin species on each island. Each bar in the below chart will represent a different species.\n",
    "\n",
    "**Findings:** "
   ]
  },
  {
   "cell_type": "code",
   "execution_count": 13,
   "metadata": {},
   "outputs": [
    {
     "data": {
      "image/png": "[encoded data removed]",
      "text/plain": [
       "<Figure size 800x600 with 1 Axes>"
      ]
     },
     "metadata": {},
     "output_type": "display_data"
    }
   ],
   "source": [
    "species_counts = df['species'].value_counts()\n",
    "\n",
    "# Create figure and axes objects\n",
    "fig, ax = plt.subplots(figsize=(8, 6))\n",
    "\n",
    "# Plot bar chart for species\n",
    "ax.bar(species_counts.index, species_counts, color='skyblue', edgecolor='black')\n",
    "\n",
    "# Set labels and title\n",
    "ax.set_title(\"Number of Penguins by Species\")\n",
    "ax.set_xlabel(\"Species\")\n",
    "ax.set_ylabel(\"Count\")\n",
    "ax.set_xticklabels(species_counts.index, rotation=45, ha='right')\n",
    "ax.grid(axis='y')\n",
    "\n",
    "# Show plot\n",
    "plt.tight_layout()\n",
    "plt.show()"
   ]
  },
  {
   "cell_type": "markdown",
   "metadata": {},
   "source": [
    "#### 6.2.1 Stacked Bar Chart\n",
    "\n",
    "https://matplotlib.org/stable/gallery/lines_bars_and_markers/bar_label_demo.html#sphx-glr-gallery-lines-bars-and-markers-bar-label-demo-py\n",
    "\n",
    "PUT LABELS ON BARS\n",
    "\n",
    "Using plt.subplots(), you can create a figure and axis object to have more control over the Over the plot's appearance and layout.\n",
    "\n",
    "\n",
    "This code will generate a bar chart showing the count of penguin species on each island. Each bar will represent a different species, stacked on top of each other for each island."
   ]
  },
  {
   "cell_type": "code",
   "execution_count": 14,
   "metadata": {},
   "outputs": [
    {
     "data": {
      "text/html": [
       "<div>\n",
       "<style scoped>\n",
       "    .dataframe tbody tr th:only-of-type {\n",
       "        vertical-align: middle;\n",
       "    }\n",
       "\n",
       "    .dataframe tbody tr th {\n",
       "        vertical-align: top;\n",
       "    }\n",
       "\n",
       "    .dataframe thead th {\n",
       "        text-align: right;\n",
       "    }\n",
       "</style>\n",
       "<table border=\"1\" class=\"dataframe\">\n",
       "  <thead>\n",
       "    <tr style=\"text-align: right;\">\n",
       "      <th>species</th>\n",
       "      <th>Adelie</th>\n",
       "      <th>Chinstrap</th>\n",
       "      <th>Gentoo</th>\n",
       "    </tr>\n",
       "    <tr>\n",
       "      <th>island</th>\n",
       "      <th></th>\n",
       "      <th></th>\n",
       "      <th></th>\n",
       "    </tr>\n",
       "  </thead>\n",
       "  <tbody>\n",
       "    <tr>\n",
       "      <th>Biscoe</th>\n",
       "      <td>44.0</td>\n",
       "      <td>NaN</td>\n",
       "      <td>119.0</td>\n",
       "    </tr>\n",
       "    <tr>\n",
       "      <th>Dream</th>\n",
       "      <td>55.0</td>\n",
       "      <td>68.0</td>\n",
       "      <td>NaN</td>\n",
       "    </tr>\n",
       "    <tr>\n",
       "      <th>Torgersen</th>\n",
       "      <td>47.0</td>\n",
       "      <td>NaN</td>\n",
       "      <td>NaN</td>\n",
       "    </tr>\n",
       "  </tbody>\n",
       "</table>\n",
       "</div>"
      ],
      "text/plain": [
       "species    Adelie  Chinstrap  Gentoo\n",
       "island                              \n",
       "Biscoe       44.0        NaN   119.0\n",
       "Dream        55.0       68.0     NaN\n",
       "Torgersen    47.0        NaN     NaN"
      ]
     },
     "execution_count": 14,
     "metadata": {},
     "output_type": "execute_result"
    }
   ],
   "source": [
    "species_count = df.groupby(['island', 'species']).size().unstack()\n",
    "species_count"
   ]
  },
  {
   "cell_type": "code",
   "execution_count": 15,
   "metadata": {},
   "outputs": [
    {
     "data": {
      "image/png": "[encoded data removed]",
      "text/plain": [
       "<Figure size 1000x600 with 1 Axes>"
      ]
     },
     "metadata": {},
     "output_type": "display_data"
    }
   ],
   "source": [
    "species_count = df.groupby(['island', 'species']).size().unstack()\n",
    "\n",
    "# Creating figure and axis objects\n",
    "fig, ax = plt.subplots(figsize=(10, 6))\n",
    "\n",
    "# Plotting the stacked bar chart\n",
    "species_count.plot(kind='bar', stacked=True, ax=ax)\n",
    "\n",
    "# Add labels and title\n",
    "ax.set_title('Number of Penguins by Island')\n",
    "ax.set_xlabel('Island')\n",
    "ax.set_ylabel('Count')\n",
    "ax.legend(title='Species')\n",
    "\n",
    "# Show plot\n",
    "plt.show()"
   ]
  },
  {
   "cell_type": "code",
   "execution_count": 16,
   "metadata": {},
   "outputs": [
    {
     "name": "stdout",
     "output_type": "stream",
     "text": [
      "Index(['Biscoe', 'Dream', 'Torgersen'], dtype='object', name='island')\n",
      "[[ 44   0 119]\n",
      " [ 55  68   0]\n",
      " [ 47   0   0]]\n",
      "Index(['Adelie', 'Chinstrap', 'Gentoo'], dtype='object', name='species')\n"
     ]
    },
    {
     "data": {
      "image/png": "[encoded data removed]",
      "text/plain": [
       "<Figure size 640x480 with 1 Axes>"
      ]
     },
     "metadata": {},
     "output_type": "display_data"
    }
   ],
   "source": [
    "# https://github.com/TindraIS/pda-palmer-penguins-eda/blob/main/penguins.ipynb\n",
    "\n",
    "# Pivot the dataframe to create a table suitable for plotting stacked bar chart\n",
    "pivot_table = df.pivot_table(index='island', columns='species', aggfunc='size', fill_value=0)\n",
    "\n",
    "# Convert the index and columns to arrays\n",
    "island = pivot_table.index\n",
    "species_counts = pivot_table.values\n",
    "print (island)\n",
    "print (species_counts)\n",
    "print(pivot_table.columns)\n",
    "\n",
    "# Create the plot and set formatting settings\n",
    "width = 0.6\n",
    "color_palette = ['#7AB', '#ECA', '#ECA']\n",
    "fig, ax = plt.subplots()\n",
    "\n",
    "# Initialize bottom values for stacking bars\n",
    "bottom = np.zeros(len(island))\n",
    "\n",
    "# Iterate over sex counts and plot stacked bars\n",
    "for i, species in enumerate(pivot_table.columns):\n",
    "    p = ax.bar(island, species_counts[:, i], width, label=species, bottom=bottom, color=color_palette[i])\n",
    "    bottom += species_counts[:, i]\n",
    "\n",
    "    # Add labels\n",
    "    ax.bar_label(p, label_type='center')\n",
    "\n",
    "# Add legend and title\n",
    "ax.set_title('Number of penguins by island and species')\n",
    "ax.legend()\n",
    "\n",
    "plt.show()\n"
   ]
  },
  {
   "cell_type": "markdown",
   "metadata": {},
   "source": [
    "#### 6.1.2 Histogram\n",
    "\n",
    "Stateless approach - need to talk about the stateless approach as that is what Ian mentions is recommended approach"
   ]
  },
  {
   "cell_type": "code",
   "execution_count": 17,
   "metadata": {},
   "outputs": [
    {
     "data": {
      "image/png": "[encoded data removed]",
      "text/plain": [
       "<Figure size 800x600 with 1 Axes>"
      ]
     },
     "metadata": {},
     "output_type": "display_data"
    }
   ],
   "source": [
    "fig, ax = plt.subplots(figsize=(8, 6))\n",
    "\n",
    "# Plot histogram for flipper length\n",
    "ax.hist(df['flipper_length_mm'], bins=15, color='blue', edgecolor='black')\n",
    "\n",
    "# Set labels and title\n",
    "ax.set_title(\"Histogram of Flipper Length\")\n",
    "ax.set_xlabel(\"Flipper Length (mm)\")\n",
    "ax.set_ylabel(\"Frequency\")\n",
    "ax.grid(True)\n"
   ]
  },
  {
   "cell_type": "markdown",
   "metadata": {},
   "source": [
    "References:   \n",
    "Numpy.org             https://numpy.org/doc/stable/reference/random/generated/numpy.random.normal.html\n",
    "\n",
    "Real Python           https://realpython.com/python-histograms/\n",
    "\n",
    "Datacamp              https://www.datacamp.com/tutorial/histograms-matplotlib\n",
    "\n",
    "Matplotlib            https://matplotlib.org/stable/gallery/statistics/hist.html\n",
    "\n",
    "Statology             https://www.statology.org/matplotlib-histogram-color/\n",
    "\n",
    "Python Graph Gallery  https://python-graph-gallery.com/190-custom-matplotlib-title/\n",
    "\n",
    "Datagy                https://datagy.io/matplotlib-title/\n",
    "\n",
    "matplotlib.org        https://matplotlib.org/stable/users/explain/text/index.html\n",
    "\n",
    "Week08 - messingWithMathplotlib\n",
    "\n",
    "Pythonspot            https://pythonspot.com/matplotlib-legend/"
   ]
  },
  {
   "cell_type": "markdown",
   "metadata": {},
   "source": [
    "### 6.1 Bivariate Analysis\n",
    "\n",
    "https://www.statology.org/bivariate-analysis-in-python/"
   ]
  },
  {
   "cell_type": "markdown",
   "metadata": {},
   "source": [
    "There are three common ways to perform bivariate analysis:\n",
    "\n",
    "1. Scatterplots\n",
    "\n",
    "2. Correlation Coefficients\n",
    "\n",
    "3. Simple Linear Regression\n",
    "   \n",
    "4. Bar Chart visualised using a stacked bar chart."
   ]
  },
  {
   "cell_type": "markdown",
   "metadata": {},
   "source": [
    "Let's see if there is any correlation between Bill Length and Bill Depth:\n",
    "We can see from the below graphs - the negative slope of the regression line indicates a negative correlation, suggesting that as bill length increases, bill depth tends to decrease. Without the regression line it is hard to tell if there is any real regression, in my opinion. Further down we'll dig deeper into the analysis and filter by species and sex. This should provide us with a clearer insight."
   ]
  },
  {
   "cell_type": "code",
   "execution_count": 18,
   "metadata": {},
   "outputs": [
    {
     "data": {
      "text/plain": [
       "(10.0, 25.0)"
      ]
     },
     "execution_count": 18,
     "metadata": {},
     "output_type": "execute_result"
    },
    {
     "data": {
      "image/png": "[encoded data removed]",
      "text/plain": [
       "<Figure size 640x480 with 1 Axes>"
      ]
     },
     "metadata": {},
     "output_type": "display_data"
    }
   ],
   "source": [
    "# Bill Length vs Bill Depth\n",
    "\n",
    "bill_length = df[\"bill_length_mm\"]\n",
    "bill_depth = df[\"bill_depth_mm\"]\n",
    "#print (bill_length)\n",
    "#print (bill_depth)\n",
    "\n",
    "fig, ax = plt.subplots()\n",
    "\n",
    "# Simple plot\n",
    "ax.scatter(bill_length, bill_depth)\n",
    "\n",
    "# Axis labels\n",
    "ax.set_xlabel(\"Bill Length (mm)\")\n",
    "ax.set_ylabel(\"Bill Width (mm)\")\n",
    "\n",
    "# Figure Title\n",
    "ax.set_title (\"Bill Length vs Bill Depth\")\n",
    "\n",
    "# x limits\n",
    "ax.set_xlim(30,60)\n",
    "\n",
    "# y limits\n",
    "ax.set_ylim(10,25)\n"
   ]
  },
  {
   "cell_type": "code",
   "execution_count": 19,
   "metadata": {},
   "outputs": [
    {
     "data": {
      "text/plain": [
       "'\\n# Fit a straight line between x and y\\n\\nm,c = np.polyfit (bill_length, bill_depth, 1)\\n\\n# Print m, c\\n\\nprint (m,c)\\n'"
      ]
     },
     "execution_count": 19,
     "metadata": {},
     "output_type": "execute_result"
    }
   ],
   "source": [
    "'''\n",
    "# Fit a straight line between x and y\n",
    "\n",
    "m,c = np.polyfit (bill_length, bill_depth, 1)\n",
    "\n",
    "# Print m, c\n",
    "\n",
    "print (m,c)\n",
    "'''"
   ]
  },
  {
   "cell_type": "code",
   "execution_count": 20,
   "metadata": {},
   "outputs": [
    {
     "name": "stdout",
     "output_type": "stream",
     "text": [
      "-0.08232675339862279 20.786648668433816\n"
     ]
    }
   ],
   "source": [
    "coefficients = np.polyfit(bill_length, bill_depth, 1)\n",
    "m = coefficients[0]  # Slope\n",
    "c = coefficients[1]  # Intercept\n",
    "print (m,c)\n",
    "    "
   ]
  },
  {
   "cell_type": "markdown",
   "metadata": {},
   "source": [
    "$ y = mx + c = p_1 x^1 + p_0 = p_1  x + p_0$"
   ]
  },
  {
   "cell_type": "code",
   "execution_count": 2,
   "metadata": {},
   "outputs": [
    {
     "ename": "NameError",
     "evalue": "name 'df' is not defined",
     "output_type": "error",
     "traceback": [
      "\u001b[1;31m---------------------------------------------------------------------------\u001b[0m",
      "\u001b[1;31mNameError\u001b[0m                                 Traceback (most recent call last)",
      "Cell \u001b[1;32mIn[2], line 4\u001b[0m\n\u001b[0;32m      1\u001b[0m \u001b[38;5;66;03m# Bill Length vs Bill Depth with Regression Line\u001b[39;00m\n\u001b[1;32m----> 4\u001b[0m bill_length \u001b[38;5;241m=\u001b[39m df[\u001b[38;5;124m\"\u001b[39m\u001b[38;5;124mbill_length_mm\u001b[39m\u001b[38;5;124m\"\u001b[39m]\n\u001b[0;32m      5\u001b[0m bill_depth \u001b[38;5;241m=\u001b[39m df[\u001b[38;5;124m\"\u001b[39m\u001b[38;5;124mbill_depth_mm\u001b[39m\u001b[38;5;124m\"\u001b[39m]\n\u001b[0;32m      6\u001b[0m \u001b[38;5;66;03m#print (bill_length)\u001b[39;00m\n\u001b[0;32m      7\u001b[0m \u001b[38;5;66;03m#print (bill_depth)\u001b[39;00m\n",
      "\u001b[1;31mNameError\u001b[0m: name 'df' is not defined"
     ]
    }
   ],
   "source": [
    "# Bill Length vs Bill Depth with Regression Line\n",
    "\n",
    "\n",
    "bill_length = df[\"bill_length_mm\"]\n",
    "bill_depth = df[\"bill_depth_mm\"]\n",
    "#print (bill_length)\n",
    "#print (bill_depth)\n",
    "\n",
    "fig, ax = plt.subplots()\n",
    "\n",
    "# Simple plot\n",
    "ax.scatter(bill_length, bill_depth)\n",
    "\n",
    "# Add line (r = red  / - = line)\n",
    "ax.plot (bill_length,  m * bill_length + c,\"r-\")\n",
    "\n",
    "# Axis labels\n",
    "ax.set_xlabel(\"Bill Length (mm)\")\n",
    "ax.set_ylabel(\"Bill Width (mm)\")\n",
    "\n",
    "# Figure Title\n",
    "ax.set_title (\"Bill Length vs Bill Depth\")\n",
    "\n",
    "# x limits\n",
    "ax.set_xlim(30,60)\n",
    "\n",
    "# y limits\n",
    "ax.set_ylim(10,25)\n",
    "\n"
   ]
  },
  {
   "cell_type": "markdown",
   "metadata": {},
   "source": [
    "The scattered spread of points around the regression line suggests a weaker correlation. This observation prompts us to investigate whether the inclusion of all penguin species contributes to this variability. Let's examine the relationship separately for each species. Upon doing so, we find a positive correlation between Bill Depth and Bill Length across all species. As Bill Length increases, so does Bill Depth."
   ]
  },
  {
   "cell_type": "code",
   "execution_count": 1,
   "metadata": {},
   "outputs": [
    {
     "ename": "NameError",
     "evalue": "name 'df' is not defined",
     "output_type": "error",
     "traceback": [
      "\u001b[1;31m---------------------------------------------------------------------------\u001b[0m",
      "\u001b[1;31mNameError\u001b[0m                                 Traceback (most recent call last)",
      "Cell \u001b[1;32mIn[1], line 4\u001b[0m\n\u001b[0;32m      1\u001b[0m \u001b[38;5;66;03m# Bill Length vs Bill Depth with Regression Line by Species\u001b[39;00m\n\u001b[0;32m      2\u001b[0m \u001b[38;5;66;03m# I represent the third variable with colour\u001b[39;00m\n\u001b[1;32m----> 4\u001b[0m bill_length \u001b[38;5;241m=\u001b[39m df[\u001b[38;5;124m\"\u001b[39m\u001b[38;5;124mbill_length_mm\u001b[39m\u001b[38;5;124m\"\u001b[39m]\n\u001b[0;32m      5\u001b[0m bill_depth \u001b[38;5;241m=\u001b[39m df[\u001b[38;5;124m\"\u001b[39m\u001b[38;5;124mbill_depth_mm\u001b[39m\u001b[38;5;124m\"\u001b[39m]\n\u001b[0;32m      6\u001b[0m species \u001b[38;5;241m=\u001b[39m df[\u001b[38;5;124m\"\u001b[39m\u001b[38;5;124mspecies\u001b[39m\u001b[38;5;124m\"\u001b[39m]\n",
      "\u001b[1;31mNameError\u001b[0m: name 'df' is not defined"
     ]
    }
   ],
   "source": [
    "# Bill Length vs Bill Depth with Regression Line by Species\n",
    "# I represent the third variable with colour\n",
    "\n",
    "bill_length = df[\"bill_length_mm\"]\n",
    "bill_depth = df[\"bill_depth_mm\"]\n",
    "species = df[\"species\"]\n",
    "\n",
    "#print (bill_length)\n",
    "#print (bill_depth)\n",
    "#print (species)\n",
    "\n",
    "#coefficients = np.polyfit(bill_length, bill_depth, 1)\n",
    "#m = coefficients[0]  # Slope\n",
    "#c = coefficients[1]  # Intercept\n",
    "\n",
    "# We need to assign colors to each data point based on the species while plotting. We'll iterate over each species and plot its data with the corresponding color.\n",
    "\n",
    "fig, ax = plt.subplots()\n",
    "\n",
    "# # Loop through each unique species and plot its data separately with its assigned color\n",
    "for spec in species.unique():\n",
    "    ax.scatter(bill_length[species == spec], bill_depth[species == spec], c=species.map({\"Adelie\":\"red\", \"Gentoo\":\"blue\", \"Chinstrap\":\"grey\"}).loc[species == spec], label=spec)\n",
    "\n",
    "# In this code, I've adjusted the c argument of the scatter function to ensure that it only takes \n",
    "# colors corresponding to the data points of each species, which should resolve the mismatch error. \n",
    "# Let me know if you need further assistance!\n",
    "# ax.scatter(bill_length, bill_depth)\n",
    "\n",
    "\n",
    "# Add line (r = red  / - = line)\n",
    "ax.plot(bill_length, m * bill_length + c, \"r-\", label=\"Regression Line\")\n",
    "\n",
    "# Axis labels\n",
    "ax.set_xlabel(\"Bill Length (mm)\")\n",
    "ax.set_ylabel(\"Bill Width (mm)\")\n",
    "\n",
    "# Figure Title\n",
    "ax.set_title (\"Bill Length vs Bill Depth (By Species)\")\n",
    "\n",
    "# x limits\n",
    "ax.set_xlim(30,60)\n",
    "\n",
    "# y limits\n",
    "ax.set_ylim(10,25)\n",
    "\n",
    "# Add legend\n",
    "ax.legend()\n"
   ]
  },
  {
   "cell_type": "markdown",
   "metadata": {},
   "source": [
    "From the plot above, my hypothesis is true to some extent. For the Adelie and Gentoo species, as bill length increases, bill depth also increases. For the Chinstrap species, the correlation between bill_depth and length\n",
    "thins out at some point with both variables being unrelated when bill width inches towards 20mm."
   ]
  },
  {
   "cell_type": "markdown",
   "metadata": {},
   "source": [
    "https://github.com/briannemcgrath/Principles-of-Data-Analytics/blob/main/penguins.ipynb"
   ]
  },
  {
   "cell_type": "code",
   "execution_count": 23,
   "metadata": {},
   "outputs": [
    {
     "data": {
      "text/plain": [
       "<matplotlib.legend.Legend at 0x1b2d9d1fc90>"
      ]
     },
     "execution_count": 23,
     "metadata": {},
     "output_type": "execute_result"
    },
    {
     "data": {
      "image/png": "[encoded data removed]",
      "text/plain": [
       "<Figure size 640x480 with 1 Axes>"
      ]
     },
     "metadata": {},
     "output_type": "display_data"
    }
   ],
   "source": [
    "# Bill Length vs Bill Depth with Regression Line by Species\n",
    "# I represent the third variable with colour\n",
    "\n",
    "bill_length = df[\"bill_length_mm\"]\n",
    "bill_depth = df[\"bill_depth_mm\"]\n",
    "species = df[\"species\"]\n",
    "\n",
    "#print (bill_length)\n",
    "#print (bill_depth)\n",
    "#print (species)\n",
    "\n",
    "\n",
    "# We need to assign colors to each data point based on the species while plotting. We'll iterate over each species and plot its data with the corresponding color.\n",
    "\n",
    "fig, ax = plt.subplots()\n",
    "\n",
    "# # Loop through each unique species and plot its data separately with its assigned color\n",
    "for spec in species.unique():\n",
    "    # Filter data for the current species\n",
    "    spec_data = df[df['species'] == spec]\n",
    "    bill_length_spec = spec_data[\"bill_length_mm\"]\n",
    "    bill_depth_spec = spec_data[\"bill_depth_mm\"]\n",
    "    \n",
    "# Calculate the coefficients of the regression line for the current species\n",
    "    coefficients = np.polyfit(bill_length_spec, bill_depth_spec, 1)\n",
    "    m = coefficients[0]  # Slope\n",
    "    c = coefficients[1]  # Intercept\n",
    "    \n",
    "    \n",
    "# Plot the scatter plot and regression line for the current species  \n",
    "    ax.scatter(bill_length_spec, bill_depth_spec, c=species.map({\"Adelie\":\"red\", \"Gentoo\":\"blue\", \"Chinstrap\":\"grey\"}).loc[species == spec], label=spec)\n",
    "    \n",
    "    ax.plot(bill_length_spec, m * bill_length_spec + c, \"-\", label=f\"{spec} Regression Line\")\n",
    "\n",
    "# In this code, I've adjusted the c argument of the scatter function to ensure that it only takes \n",
    "# colors corresponding to the data points of each species, which should resolve the mismatch error. \n",
    "# Let me know if you need further assistance!\n",
    "# ax.scatter(bill_length, bill_depth)\n",
    "\n",
    "\n",
    "# Add line (r = red  / - = line)\n",
    "#ax.plot(bill_length, m * bill_length + c, \"r-\", label=\"Regression Line\")\n",
    "\n",
    "# Axis labels\n",
    "ax.set_xlabel(\"Bill Length (mm)\")\n",
    "ax.set_ylabel(\"Bill Width (mm)\")\n",
    "\n",
    "# Figure Title\n",
    "ax.set_title (\"Bill Length vs Bill Depth (By Species)\")\n",
    "\n",
    "# x limits\n",
    "ax.set_xlim(30,60)\n",
    "\n",
    "# y limits\n",
    "ax.set_ylim(10,25)\n",
    "\n",
    "# Add legend\n",
    "ax.legend()\n"
   ]
  },
  {
   "cell_type": "markdown",
   "metadata": {},
   "source": [
    "Let’s check the correlation between length and depth for each species.\n",
    "\n",
    "https://dlsun.github.io/stats112/slides/grammar_of_graphics.pdf"
   ]
  },
  {
   "cell_type": "code",
   "execution_count": 24,
   "metadata": {},
   "outputs": [
    {
     "data": {
      "text/html": [
       "<div>\n",
       "<style scoped>\n",
       "    .dataframe tbody tr th:only-of-type {\n",
       "        vertical-align: middle;\n",
       "    }\n",
       "\n",
       "    .dataframe tbody tr th {\n",
       "        vertical-align: top;\n",
       "    }\n",
       "\n",
       "    .dataframe thead th {\n",
       "        text-align: right;\n",
       "    }\n",
       "</style>\n",
       "<table border=\"1\" class=\"dataframe\">\n",
       "  <thead>\n",
       "    <tr style=\"text-align: right;\">\n",
       "      <th></th>\n",
       "      <th></th>\n",
       "      <th>bill_depth_mm</th>\n",
       "      <th>bill_length_mm</th>\n",
       "    </tr>\n",
       "    <tr>\n",
       "      <th>species</th>\n",
       "      <th></th>\n",
       "      <th></th>\n",
       "      <th></th>\n",
       "    </tr>\n",
       "  </thead>\n",
       "  <tbody>\n",
       "    <tr>\n",
       "      <th rowspan=\"2\" valign=\"top\">Adelie</th>\n",
       "      <th>bill_depth_mm</th>\n",
       "      <td>1.000000</td>\n",
       "      <td>0.385813</td>\n",
       "    </tr>\n",
       "    <tr>\n",
       "      <th>bill_length_mm</th>\n",
       "      <td>0.385813</td>\n",
       "      <td>1.000000</td>\n",
       "    </tr>\n",
       "    <tr>\n",
       "      <th rowspan=\"2\" valign=\"top\">Chinstrap</th>\n",
       "      <th>bill_depth_mm</th>\n",
       "      <td>1.000000</td>\n",
       "      <td>0.653536</td>\n",
       "    </tr>\n",
       "    <tr>\n",
       "      <th>bill_length_mm</th>\n",
       "      <td>0.653536</td>\n",
       "      <td>1.000000</td>\n",
       "    </tr>\n",
       "    <tr>\n",
       "      <th rowspan=\"2\" valign=\"top\">Gentoo</th>\n",
       "      <th>bill_depth_mm</th>\n",
       "      <td>1.000000</td>\n",
       "      <td>0.654023</td>\n",
       "    </tr>\n",
       "    <tr>\n",
       "      <th>bill_length_mm</th>\n",
       "      <td>0.654023</td>\n",
       "      <td>1.000000</td>\n",
       "    </tr>\n",
       "  </tbody>\n",
       "</table>\n",
       "</div>"
      ],
      "text/plain": [
       "                          bill_depth_mm  bill_length_mm\n",
       "species                                                \n",
       "Adelie    bill_depth_mm        1.000000        0.385813\n",
       "          bill_length_mm       0.385813        1.000000\n",
       "Chinstrap bill_depth_mm        1.000000        0.653536\n",
       "          bill_length_mm       0.653536        1.000000\n",
       "Gentoo    bill_depth_mm        1.000000        0.654023\n",
       "          bill_length_mm       0.654023        1.000000"
      ]
     },
     "execution_count": 24,
     "metadata": {},
     "output_type": "execute_result"
    }
   ],
   "source": [
    "df.groupby(\"species\")[[\"bill_depth_mm\",\"bill_length_mm\"]].corr()\n"
   ]
  },
  {
   "cell_type": "markdown",
   "metadata": {},
   "source": [
    "To summarize the relationship, we calculate the correlation coefficient R.\n",
    "The overall correlation between length and depth was negative!\n"
   ]
  },
  {
   "cell_type": "code",
   "execution_count": 25,
   "metadata": {},
   "outputs": [
    {
     "data": {
      "text/html": [
       "<div>\n",
       "<style scoped>\n",
       "    .dataframe tbody tr th:only-of-type {\n",
       "        vertical-align: middle;\n",
       "    }\n",
       "\n",
       "    .dataframe tbody tr th {\n",
       "        vertical-align: top;\n",
       "    }\n",
       "\n",
       "    .dataframe thead th {\n",
       "        text-align: right;\n",
       "    }\n",
       "</style>\n",
       "<table border=\"1\" class=\"dataframe\">\n",
       "  <thead>\n",
       "    <tr style=\"text-align: right;\">\n",
       "      <th></th>\n",
       "      <th>bill_length_mm</th>\n",
       "      <th>bill_depth_mm</th>\n",
       "    </tr>\n",
       "  </thead>\n",
       "  <tbody>\n",
       "    <tr>\n",
       "      <th>bill_length_mm</th>\n",
       "      <td>1.000000</td>\n",
       "      <td>-0.228626</td>\n",
       "    </tr>\n",
       "    <tr>\n",
       "      <th>bill_depth_mm</th>\n",
       "      <td>-0.228626</td>\n",
       "      <td>1.000000</td>\n",
       "    </tr>\n",
       "  </tbody>\n",
       "</table>\n",
       "</div>"
      ],
      "text/plain": [
       "                bill_length_mm  bill_depth_mm\n",
       "bill_length_mm        1.000000      -0.228626\n",
       "bill_depth_mm        -0.228626       1.000000"
      ]
     },
     "execution_count": 25,
     "metadata": {},
     "output_type": "execute_result"
    }
   ],
   "source": [
    "df[[\"bill_length_mm\", \"bill_depth_mm\"]].corr()\n"
   ]
  },
  {
   "cell_type": "markdown",
   "metadata": {},
   "source": [
    "Female Vs Male: Bill Length vs Bill Depth\n",
    "Let's compare the relationship between Bill Length and Bill Depth for Male and Female penguins. We'll analyse seperate scatter plots for males and females to discern any differences in the correlation between these variables based on sex.\n",
    "\n",
    "Our aim is to understand if there are distinct patterns in bill characteristics between the two sexes."
   ]
  },
  {
   "cell_type": "code",
   "execution_count": 26,
   "metadata": {},
   "outputs": [
    {
     "data": {
      "text/plain": [
       "<matplotlib.legend.Legend at 0x1b2d9b6c350>"
      ]
     },
     "execution_count": 26,
     "metadata": {},
     "output_type": "execute_result"
    },
    {
     "data": {
      "image/png": "[encoded data removed]",
      "text/plain": [
       "<Figure size 640x480 with 1 Axes>"
      ]
     },
     "metadata": {},
     "output_type": "display_data"
    }
   ],
   "source": [
    "# Bill Length vs Bill Depth with Regression Line by Species\n",
    "# I represent the third variable with colour\n",
    "\n",
    "male_data = df[df['sex'] == 'MALE']\n",
    "bill_length_male = male_data[\"bill_length_mm\"]\n",
    "bill_depth_male = male_data[\"bill_depth_mm\"]\n",
    "species_male = male_data[\"species\"]\n",
    "#print (male_data)\n",
    "#print (bill_length_male)\n",
    "#print (bill_depth_male)\n",
    "#print (species_male)\n",
    "\n",
    "# We need to assign colors to each data point based on the species while plotting. We'll iterate over each species and plot its data with the corresponding color.\n",
    "\n",
    "fig, ax = plt.subplots()\n",
    "\n",
    "# Loop through each unique species and plot its data separately with its assigned color\n",
    "for spec in species_male.unique():\n",
    "    # Filter data for the current species and male sex\n",
    "    spec_data = male_data[male_data['species'] == spec]\n",
    "    bill_length_spec = spec_data[\"bill_length_mm\"]\n",
    "    bill_depth_spec = spec_data[\"bill_depth_mm\"]\n",
    "    \n",
    "# Calculate the coefficients of the regression line for the current species\n",
    "    coefficients = np.polyfit(bill_length_spec, bill_depth_spec, 1)\n",
    "    m = coefficients[0]  # Slope\n",
    "    c = coefficients[1]  # Intercept\n",
    "    \n",
    "    \n",
    "# Plot the scatter plot and regression line for the current species  \n",
    "    #ax.scatter(bill_length_spec, bill_depth_spec, c=species.map({\"Adelie\":\"red\", \"Gentoo\":\"blue\", \"Chinstrap\":\"grey\"}).loc[species == spec], label=spec)\n",
    "    ax.scatter(bill_length_spec, bill_depth_spec, c=spec_data['species'].map({\"Adelie\":\"red\", \"Gentoo\":\"blue\", \"Chinstrap\":\"grey\"}).loc[species == spec], label=spec)\n",
    "    \n",
    "    ax.plot(bill_length_spec, m * bill_length_spec + c, \"-\", label=f\"{spec} Regression Line\")\n",
    "\n",
    "# In this code, I've adjusted the c argument of the scatter function to ensure that it only takes \n",
    "# colors corresponding to the data points of each species, which should resolve the mismatch error. \n",
    "# Let me know if you need further assistance!\n",
    "# ax.scatter(bill_length, bill_depth)\n",
    "\n",
    "\n",
    "# Add line (r = red  / - = line)\n",
    "#ax.plot(bill_length, m * bill_length + c, \"r-\", label=\"Regression Line\")\n",
    "\n",
    "# Axis labels\n",
    "ax.set_xlabel(\"Bill Length (mm)\")\n",
    "ax.set_ylabel(\"Bill Width (mm)\")\n",
    "\n",
    "# Figure Title\n",
    "ax.set_title (\"Male Bill Length vs Male Bill Depth (By Species)\")\n",
    "\n",
    "# x limits\n",
    "ax.set_xlim(30,60)\n",
    "\n",
    "# y limits\n",
    "ax.set_ylim(10,25)\n",
    "\n",
    "# Add legend\n",
    "ax.legend()\n",
    "\n"
   ]
  },
  {
   "cell_type": "code",
   "execution_count": 27,
   "metadata": {},
   "outputs": [
    {
     "data": {
      "text/plain": [
       "<matplotlib.legend.Legend at 0x1b2d9c17c90>"
      ]
     },
     "execution_count": 27,
     "metadata": {},
     "output_type": "execute_result"
    },
    {
     "data": {
      "image/png": "[encoded data removed]",
      "text/plain": [
       "<Figure size 640x480 with 1 Axes>"
      ]
     },
     "metadata": {},
     "output_type": "display_data"
    }
   ],
   "source": [
    "# Bill Length vs Bill Depth with Regression Line by Species\n",
    "# I represent the third variable with colour\n",
    "\n",
    "female_data = df[df['sex'] == 'FEMALE']\n",
    "bill_length_female = female_data[\"bill_length_mm\"]\n",
    "bill_depth_female = female_data[\"bill_depth_mm\"]\n",
    "species_female = female_data[\"species\"]\n",
    "#print (female_data)\n",
    "#print (bill_length_female)\n",
    "#print (bill_depth_female)\n",
    "#print (species_female)\n",
    "\n",
    "# We need to assign colors to each data point based on the species while plotting. We'll iterate over each species and plot its data with the corresponding color.\n",
    "\n",
    "fig, ax = plt.subplots()\n",
    "\n",
    "# Loop through each unique species and plot its data separately with its assigned color\n",
    "for spec in species_female.unique():\n",
    "    # Filter data for the current species and female sex\n",
    "    spec_data = female_data[female_data['species'] == spec]\n",
    "    bill_length_spec = spec_data[\"bill_length_mm\"]\n",
    "    bill_depth_spec = spec_data[\"bill_depth_mm\"]\n",
    "    \n",
    "# Calculate the coefficients of the regression line for the current species\n",
    "    coefficients = np.polyfit(bill_length_spec, bill_depth_spec, 1)\n",
    "    m = coefficients[0]  # Slope\n",
    "    c = coefficients[1]  # Intercept\n",
    "    \n",
    "    \n",
    "# Plot the scatter plot and regression line for the current species  \n",
    "    #ax.scatter(bill_length_spec, bill_depth_spec, c=species.map({\"Adelie\":\"red\", \"Gentoo\":\"blue\", \"Chinstrap\":\"grey\"}).loc[species == spec], label=spec)\n",
    "    ax.scatter(bill_length_spec, bill_depth_spec, c=spec_data['species'].map({\"Adelie\":\"red\", \"Gentoo\":\"blue\", \"Chinstrap\":\"grey\"}).loc[species == spec], label=spec)\n",
    "    \n",
    "    ax.plot(bill_length_spec, m * bill_length_spec + c, \"-\", label=f\"{spec} Regression Line\")\n",
    "\n",
    "# In this code, I've adjusted the c argument of the scatter function to ensure that it only takes \n",
    "# colors corresponding to the data points of each species, which should resolve the mismatch error. \n",
    "# Let me know if you need further assistance!\n",
    "# ax.scatter(bill_length, bill_depth)\n",
    "\n",
    "\n",
    "# Add line (r = red  / - = line)\n",
    "#ax.plot(bill_length, m * bill_length + c, \"r-\", label=\"Regression Line\")\n",
    "\n",
    "# Axis labels\n",
    "ax.set_xlabel(\"Bill Length (mm)\")\n",
    "ax.set_ylabel(\"Bill Width (mm)\")\n",
    "\n",
    "# Figure Title\n",
    "ax.set_title (\"Female Bill Length vs Female Bill Depth (By Species)\")\n",
    "\n",
    "# x limits\n",
    "ax.set_xlim(30,60)\n",
    "\n",
    "# y limits\n",
    "ax.set_ylim(10,25)\n",
    "\n",
    "# Add legend\n",
    "ax.legend()\n",
    "\n"
   ]
  },
  {
   "cell_type": "markdown",
   "metadata": {},
   "source": [
    "## End\n",
    "\n",
    "***"
   ]
  },
  {
   "cell_type": "markdown",
   "metadata": {},
   "source": []
  },
  {
   "cell_type": "markdown",
   "metadata": {},
   "source": [
    "### S\n",
    "\n",
    "**Rationale:** \n",
    "\n",
    "\n",
    "\n",
    "**Findings:**"
   ]
  },
  {
   "cell_type": "markdown",
   "metadata": {},
   "source": [
    "### S\n",
    "\n",
    "**Rationale:** \n",
    "\n",
    "\n",
    "**Findings:**"
   ]
  },
  {
   "cell_type": "code",
   "execution_count": null,
   "metadata": {},
   "outputs": [],
   "source": []
  },
  {
   "cell_type": "markdown",
   "metadata": {},
   "source": [
    "### \n",
    "\n",
    "**Rationale:** \n",
    "\n",
    "\n",
    "**Findings:**"
   ]
  },
  {
   "cell_type": "markdown",
   "metadata": {},
   "source": [
    "### \n",
    "\n",
    "**Rationale:** \n",
    "\n",
    "\n",
    "**Findings:**"
   ]
  },
  {
   "cell_type": "code",
   "execution_count": null,
   "metadata": {},
   "outputs": [],
   "source": []
  },
  {
   "cell_type": "code",
   "execution_count": null,
   "metadata": {},
   "outputs": [],
   "source": []
  },
  {
   "cell_type": "code",
   "execution_count": null,
   "metadata": {},
   "outputs": [],
   "source": []
  },
  {
   "cell_type": "code",
   "execution_count": null,
   "metadata": {},
   "outputs": [],
   "source": []
  },
  {
   "cell_type": "code",
   "execution_count": null,
   "metadata": {},
   "outputs": [],
   "source": []
  },
  {
   "cell_type": "markdown",
   "metadata": {},
   "source": [
    "[© Gabe Mednick 2022](https://www.gabemednick.com/post/penguin/featured_hu23a2ff6767279debab043a6c8f0a6157_878472_720x0_resize_lanczos_2.png)"
   ]
  },
  {
   "cell_type": "markdown",
   "metadata": {},
   "source": [
    "***\n",
    "\n",
    "<p align=\"center\">\n",
    "<img width=\"250\" height=\"291\" src=\"https://miro.medium.com/v2/resize:fit:4800/format:webp/0*UG26YZBOOrH0jQk3\")\n",
    "</p>\n",
    "\n",
    "Photo by [Tam Minton](https://unsplash.com/ja/@tamwarnerminton?utm_source=medium&utm_medium=referral) on [Medium](https://medium.com/@Fortune_/visualizing-the-palmerpenguins-dataset-d3d70bb619b4)"
   ]
  },
  {
   "cell_type": "code",
   "execution_count": null,
   "metadata": {},
   "outputs": [],
   "source": []
  },
  {
   "cell_type": "markdown",
   "metadata": {},
   "source": [
    "***\n",
    "\n",
    "<p align=\"center\">\n",
    "<img width=\"250\" height=\"291\" src=\"https://allisonhorst.github.io/palmerpenguins/reference/figures/palmerpenguins.png\")\n",
    "</p>\n",
    "\n",
    "[Artwork by @allison_horst](https://allisonhorst.github.io/palmerpenguins/articles/art.html)"
   ]
  },
  {
   "cell_type": "markdown",
   "metadata": {},
   "source": [
    "***\n",
    "\n",
    "<p align=\"center\">\n",
    "<img width=\"428\" height=\"291\" src=\"https://allisonhorst.github.io/palmerpenguins/reference/figures/culmen_depth.png\")\n",
    "</p>\n",
    "\n",
    "[Artwork by @allison_horst](https://allisonhorst.github.io/palmerpenguins/articles/art.html)\n",
    "\n",
    "Culmen measurements\n",
    "What are culmen length & depth? The culmen is “the upper ridge of a bird’s beak” (definition from Oxford Languages). In the simplified penguins subset, culmen length and depth have been updated to variables named bill_length_mm and bill_depth_mm.\n",
    "\n",
    "For this penguin data, the bill/culmen length and depth are measured as shown below (thanks Kristen Gorman for clarifying!):"
   ]
  },
  {
   "cell_type": "markdown",
   "metadata": {},
   "source": [
    "## References\n",
    "\n",
    "***\n",
    "\n",
    "- Jupyter Notebook          https://jupyter-notebook.readthedocs.io/en/stable/examples/Notebook/Working%20With%20Markdown%20Cells.html\n",
    "- w3 Schools                https://www.w3schools.com/python/pandas/ref_df_info.asp\n",
    "- Pandas                    https://pandas.pydata.org/pandas-docs/stable/reference/api/pandas.DataFrame.iloc.html   "
   ]
  },
  {
   "cell_type": "markdown",
   "metadata": {},
   "source": [
    "***\n",
    "## End"
   ]
  }
 ],
 "metadata": {
  "kernelspec": {
   "display_name": "base",
   "language": "python",
   "name": "python3"
  },
  "language_info": {
   "codemirror_mode": {
    "name": "ipython",
    "version": 3
   },
   "file_extension": ".py",
   "mimetype": "text/x-python",
   "name": "python",
   "nbconvert_exporter": "python",
   "pygments_lexer": "ipython3",
   "version": "3.11.5"
  }
 },
 "nbformat": 4,
 "nbformat_minor": 2
}
