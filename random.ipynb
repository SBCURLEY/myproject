{
 "cells": [
  {
   "cell_type": "markdown",
   "metadata": {},
   "source": [
    "# Random Numbers\n",
    "\n",
    "***"
   ]
  },
  {
   "cell_type": "markdown",
   "metadata": {},
   "source": [
    "## PreRequisites\n",
    "\n",
    "***\n",
    "\n",
    "https://numpy.org/doc/stable/reference/random/"
   ]
  },
  {
   "cell_type": "code",
   "execution_count": 1,
   "metadata": {},
   "outputs": [],
   "source": [
    "# Numerical arrays an random numbers\n",
    "\n",
    "import numpy as np\n",
    "\n",
    "\n",
    "# Plot\n",
    "import matplotlib.pyplot as plt"
   ]
  },
  {
   "cell_type": "markdown",
   "metadata": {},
   "source": [
    "## Generate Random Integers\n",
    "\n",
    "***"
   ]
  },
  {
   "cell_type": "code",
   "execution_count": 2,
   "metadata": {},
   "outputs": [],
   "source": [
    "import random"
   ]
  },
  {
   "cell_type": "code",
   "execution_count": 3,
   "metadata": {},
   "outputs": [],
   "source": [
    "rng = np.random.default_rng()"
   ]
  },
  {
   "cell_type": "code",
   "execution_count": 4,
   "metadata": {},
   "outputs": [
    {
     "data": {
      "text/plain": [
       "0.8236430007502942"
      ]
     },
     "execution_count": 4,
     "metadata": {},
     "output_type": "execute_result"
    }
   ],
   "source": [
    "# Generate one random float uniformly distributed over the range [0, 1)\n",
    "rng.random()  "
   ]
  },
  {
   "cell_type": "code",
   "execution_count": 5,
   "metadata": {},
   "outputs": [
    {
     "data": {
      "text/plain": [
       "array([-0.61354511,  1.40408478,  1.26048055, -0.14002566,  0.62333965,\n",
       "        1.82355609, -1.02893548,  0.59742763,  1.08444353,  2.22281758])"
      ]
     },
     "execution_count": 5,
     "metadata": {},
     "output_type": "execute_result"
    }
   ],
   "source": [
    "# Generate an array of 10 numbers according to a unit Gaussian distribution.\n",
    "rng.standard_normal(10)"
   ]
  },
  {
   "cell_type": "code",
   "execution_count": 6,
   "metadata": {},
   "outputs": [
    {
     "data": {
      "text/plain": [
       "array([0, 7, 8, 2, 3], dtype=int64)"
      ]
     },
     "execution_count": 6,
     "metadata": {},
     "output_type": "execute_result"
    }
   ],
   "source": [
    "# Generate an array of 5 integers uniformly over the range [0, 10).\n",
    "rng.integers(low=0, high=10, size=5)"
   ]
  },
  {
   "cell_type": "code",
   "execution_count": 7,
   "metadata": {},
   "outputs": [
    {
     "data": {
      "text/plain": [
       "array([ 1,  4,  3,  6,  5,  5,  7, 10,  2,  5,  1,  4, 10,  1,  1,  4,  9,\n",
       "        5,  0,  5,  3,  6,  7,  4,  8,  4, 10,  4,  4,  2,  7, 10,  9,  6,\n",
       "        4,  2,  1,  9,  2,  0,  2,  6,  9,  7,  4,  3,  7,  3,  5,  2,  5,\n",
       "       10,  8,  3,  7,  4,  9,  0, 10,  2,  0,  4,  5,  5,  3,  4,  3,  3,\n",
       "        6,  2,  9,  1,  9,  7,  8,  3,  8,  0,  1,  9,  4, 10,  0,  0,  8,\n",
       "        1,  4,  8,  4,  8,  3,  7,  9,  1,  4,  9,  8,  9,  0,  1],\n",
       "      dtype=int64)"
      ]
     },
     "execution_count": 7,
     "metadata": {},
     "output_type": "execute_result"
    }
   ],
   "source": [
    "# Generate 10,000 integers over the range (0,10).\n",
    "\n",
    "x = rng.integers (low=0, high=10, size=100, endpoint=True)\n",
    "\n",
    "# Show x\n",
    "\n",
    "x\n"
   ]
  },
  {
   "cell_type": "code",
   "execution_count": 8,
   "metadata": {},
   "outputs": [
    {
     "data": {
      "text/plain": [
       "(array([ 0,  1,  2,  3,  4,  5,  6,  7,  8,  9, 10], dtype=int64),\n",
       " array([ 8, 10,  8, 10, 16,  9,  5,  8,  8, 11,  7], dtype=int64))"
      ]
     },
     "execution_count": 8,
     "metadata": {},
     "output_type": "execute_result"
    }
   ],
   "source": [
    "# Get the counts\n",
    "\n",
    "values, counts = np.unique (x, return_counts=True)\n",
    "\n",
    "# Show \n",
    "values, counts\n",
    "\n",
    "# Not very fancy as text"
   ]
  },
  {
   "cell_type": "code",
   "execution_count": 9,
   "metadata": {},
   "outputs": [
    {
     "data": {
      "text/plain": [
       "<BarContainer object of 11 artists>"
      ]
     },
     "execution_count": 9,
     "metadata": {},
     "output_type": "execute_result"
    },
    {
     "data": {
      "image/png": "[encoded data removed]",
      "text/plain": [
       "<Figure size 640x480 with 1 Axes>"
      ]
     },
     "metadata": {},
     "output_type": "display_data"
    }
   ],
   "source": [
    "# Plot the bar chart\n",
    "\n",
    "plt.bar(values, counts, edgecolor=\"black\")"
   ]
  },
  {
   "cell_type": "markdown",
   "metadata": {},
   "source": [
    "## Uniform Distribution\n",
    "\n",
    "***"
   ]
  },
  {
   "cell_type": "code",
   "execution_count": null,
   "metadata": {},
   "outputs": [],
   "source": []
  },
  {
   "cell_type": "code",
   "execution_count": null,
   "metadata": {},
   "outputs": [],
   "source": [
    "\n"
   ]
  },
  {
   "cell_type": "code",
   "execution_count": 10,
   "metadata": {},
   "outputs": [
    {
     "data": {
      "text/plain": [
       "array([4.36408361, 7.66054296, 3.57203888, 1.13010497, 1.47080635,\n",
       "       5.52145515, 5.39008877, 4.34647465, 8.22224339, 0.27907642,\n",
       "       5.79516818, 3.46482902, 8.18815442, 3.90651107, 6.12404857,\n",
       "       9.35339247, 5.38703161, 1.48953638, 5.03058004, 0.50644956,\n",
       "       3.01235297, 0.27708004, 4.93834809, 9.2720618 , 6.77491925,\n",
       "       7.00437743, 5.02975788, 6.78704127, 6.80434234, 3.57356457,\n",
       "       5.32283189, 2.21055948, 5.39157235, 1.69033468, 1.98137246,\n",
       "       7.905601  , 3.62637327, 7.11689717, 9.68100925, 5.40230025,\n",
       "       8.80080219, 9.53519863, 9.65965086, 6.31104572, 4.22669888,\n",
       "       4.9464767 , 2.65864153, 6.3523022 , 2.77135735, 2.57413587,\n",
       "       9.37949591, 1.71866374, 1.99449161, 9.75264911, 2.09200964,\n",
       "       0.33592356, 8.28652561, 5.46086335, 8.95973474, 0.71441721,\n",
       "       7.25151324, 4.4088963 , 3.74910161, 7.05064703, 1.65023597,\n",
       "       5.93924642, 7.70829412, 1.73036482, 3.55511972, 7.05769098,\n",
       "       9.10248492, 2.74137679, 8.44550922, 7.69153426, 0.71221734,\n",
       "       6.19227279, 4.94296399, 6.83501884, 0.98866672, 6.98058427,\n",
       "       7.98260523, 2.61952328, 3.77899864, 4.0862299 , 2.63170508,\n",
       "       3.69747878, 0.58325894, 4.01061101, 8.84718417, 4.46974141,\n",
       "       8.65837503, 1.83957749, 4.09725338, 3.33521774, 4.85392394,\n",
       "       7.91461794, 6.39415962, 6.94899866, 1.92581056, 3.76027298])"
      ]
     },
     "execution_count": 10,
     "metadata": {},
     "output_type": "execute_result"
    }
   ],
   "source": [
    "# Generate 100 floats uniformly distributed over the range [0,10)]\n",
    "# size remains an integer as it is not part of the distribution, it is counting.\n",
    "\n",
    "x = rng.uniform(low=0.0, high=10.0, size=100)\n",
    "\n",
    "# Show\n",
    "x"
   ]
  },
  {
   "cell_type": "code",
   "execution_count": 11,
   "metadata": {},
   "outputs": [
    {
     "data": {
      "text/plain": [
       "(array([0.27708004, 0.27907642, 0.33592356, 0.50644956, 0.58325894,\n",
       "        0.71221734, 0.71441721, 0.98866672, 1.13010497, 1.47080635,\n",
       "        1.48953638, 1.65023597, 1.69033468, 1.71866374, 1.73036482,\n",
       "        1.83957749, 1.92581056, 1.98137246, 1.99449161, 2.09200964,\n",
       "        2.21055948, 2.57413587, 2.61952328, 2.63170508, 2.65864153,\n",
       "        2.74137679, 2.77135735, 3.01235297, 3.33521774, 3.46482902,\n",
       "        3.55511972, 3.57203888, 3.57356457, 3.62637327, 3.69747878,\n",
       "        3.74910161, 3.76027298, 3.77899864, 3.90651107, 4.01061101,\n",
       "        4.0862299 , 4.09725338, 4.22669888, 4.34647465, 4.36408361,\n",
       "        4.4088963 , 4.46974141, 4.85392394, 4.93834809, 4.94296399,\n",
       "        4.9464767 , 5.02975788, 5.03058004, 5.32283189, 5.38703161,\n",
       "        5.39008877, 5.39157235, 5.40230025, 5.46086335, 5.52145515,\n",
       "        5.79516818, 5.93924642, 6.12404857, 6.19227279, 6.31104572,\n",
       "        6.3523022 , 6.39415962, 6.77491925, 6.78704127, 6.80434234,\n",
       "        6.83501884, 6.94899866, 6.98058427, 7.00437743, 7.05064703,\n",
       "        7.05769098, 7.11689717, 7.25151324, 7.66054296, 7.69153426,\n",
       "        7.70829412, 7.905601  , 7.91461794, 7.98260523, 8.18815442,\n",
       "        8.22224339, 8.28652561, 8.44550922, 8.65837503, 8.80080219,\n",
       "        8.84718417, 8.95973474, 9.10248492, 9.2720618 , 9.35339247,\n",
       "        9.37949591, 9.53519863, 9.65965086, 9.68100925, 9.75264911]),\n",
       " array([1, 1, 1, 1, 1, 1, 1, 1, 1, 1, 1, 1, 1, 1, 1, 1, 1, 1, 1, 1, 1, 1,\n",
       "        1, 1, 1, 1, 1, 1, 1, 1, 1, 1, 1, 1, 1, 1, 1, 1, 1, 1, 1, 1, 1, 1,\n",
       "        1, 1, 1, 1, 1, 1, 1, 1, 1, 1, 1, 1, 1, 1, 1, 1, 1, 1, 1, 1, 1, 1,\n",
       "        1, 1, 1, 1, 1, 1, 1, 1, 1, 1, 1, 1, 1, 1, 1, 1, 1, 1, 1, 1, 1, 1,\n",
       "        1, 1, 1, 1, 1, 1, 1, 1, 1, 1, 1, 1], dtype=int64))"
      ]
     },
     "execution_count": 11,
     "metadata": {},
     "output_type": "execute_result"
    }
   ],
   "source": [
    "# Get the counts\n",
    "\n",
    "values, counts = np.unique (x, return_counts=True)\n",
    "\n",
    "# Show \n",
    "values, counts\n",
    "\n",
    "# Not very fancy as text"
   ]
  },
  {
   "cell_type": "code",
   "execution_count": 12,
   "metadata": {},
   "outputs": [
    {
     "data": {
      "text/plain": [
       "<BarContainer object of 100 artists>"
      ]
     },
     "execution_count": 12,
     "metadata": {},
     "output_type": "execute_result"
    },
    {
     "data": {
      "image/png": "[encoded data removed]",
      "text/plain": [
       "<Figure size 640x480 with 1 Axes>"
      ]
     },
     "metadata": {},
     "output_type": "display_data"
    }
   ],
   "source": [
    "# Plot the bar chart\n",
    "\n",
    "plt.bar(values, counts, edgecolor='black')"
   ]
  },
  {
   "cell_type": "code",
   "execution_count": 13,
   "metadata": {},
   "outputs": [
    {
     "data": {
      "text/plain": [
       "(array([ 0.,  1.,  2.,  3.,  4.,  5.,  6.,  7.,  8.,  9., 10.]),\n",
       " array([ 3,  8, 10,  9, 17, 12,  8, 11, 10,  8,  4], dtype=int64),\n",
       " 11,\n",
       " 11)"
      ]
     },
     "execution_count": 13,
     "metadata": {},
     "output_type": "execute_result"
    }
   ],
   "source": [
    "# Round values in x\n",
    "x_rounded = np.round(x, decimals=0)\n",
    "\n",
    "# Get the counts\n",
    "\n",
    "values, counts = np.unique (x_rounded, return_counts=True)\n",
    "\n",
    "# Show \n",
    "values, counts, values.size, counts.size\n"
   ]
  },
  {
   "cell_type": "code",
   "execution_count": 14,
   "metadata": {},
   "outputs": [
    {
     "data": {
      "text/plain": [
       "<BarContainer object of 11 artists>"
      ]
     },
     "execution_count": 14,
     "metadata": {},
     "output_type": "execute_result"
    },
    {
     "data": {
      "image/png": "[encoded data removed]",
      "text/plain": [
       "<Figure size 640x480 with 1 Axes>"
      ]
     },
     "metadata": {},
     "output_type": "display_data"
    }
   ],
   "source": [
    "# Plot the bar chart\n",
    "\n",
    "plt.bar(values, counts, edgecolor='black')"
   ]
  },
  {
   "cell_type": "code",
   "execution_count": 15,
   "metadata": {},
   "outputs": [
    {
     "data": {
      "text/plain": [
       "array([5.49920309, 2.05077703, 8.68611605, ..., 5.78038664, 6.95952758,\n",
       "       2.74696149])"
      ]
     },
     "execution_count": 15,
     "metadata": {},
     "output_type": "execute_result"
    }
   ],
   "source": [
    "# Generate 10,000 floats uniformly distributed over the range [0,10)]\n",
    "# size remains an integer as it is not part of the distribution, it is counting.\n",
    "\n",
    "x = rng.uniform(low=0.0, high=10.0, size=10000)\n",
    "\n",
    "# Show\n",
    "x"
   ]
  },
  {
   "cell_type": "code",
   "execution_count": 16,
   "metadata": {},
   "outputs": [
    {
     "data": {
      "text/plain": [
       "(array([2.27158796e-03, 3.33597938e-03, 4.29038091e-03, ...,\n",
       "        9.99368416e+00, 9.99820057e+00, 9.99906382e+00]),\n",
       " array([1, 1, 1, ..., 1, 1, 1], dtype=int64),\n",
       " 10000,\n",
       " 10000)"
      ]
     },
     "execution_count": 16,
     "metadata": {},
     "output_type": "execute_result"
    }
   ],
   "source": [
    "# Get the counts\n",
    "\n",
    "values, counts = np.unique (x, return_counts=True)\n",
    "\n",
    "# Show \n",
    "values, counts, values.size, counts.size"
   ]
  },
  {
   "cell_type": "code",
   "execution_count": 20,
   "metadata": {},
   "outputs": [
    {
     "data": {
      "text/plain": [
       "(array([ 995.,  975.,  999.,  939.,  960., 1048., 1013., 1045.,  982.,\n",
       "        1044.]),\n",
       " array([2.27158796e-03, 1.00195081e+00, 2.00163003e+00, 3.00130926e+00,\n",
       "        4.00098848e+00, 5.00066770e+00, 6.00034693e+00, 7.00002615e+00,\n",
       "        7.99970537e+00, 8.99938460e+00, 9.99906382e+00]),\n",
       " <BarContainer object of 10 artists>)"
      ]
     },
     "execution_count": 20,
     "metadata": {},
     "output_type": "execute_result"
    },
    {
     "data": {
      "image/png": "[encoded data removed]",
      "text/plain": [
       "<Figure size 640x480 with 1 Axes>"
      ]
     },
     "metadata": {},
     "output_type": "display_data"
    }
   ],
   "source": [
    "# Plot Histogram\n",
    "\n",
    "plt.hist(x, edgecolor=\"black\")"
   ]
  },
  {
   "cell_type": "markdown",
   "metadata": {},
   "source": [
    "## Standard Normal\n",
    "\n",
    "***\n"
   ]
  },
  {
   "cell_type": "code",
   "execution_count": 22,
   "metadata": {},
   "outputs": [
    {
     "data": {
      "text/plain": [
       "array([ 0.03900284,  0.42280772,  1.07258017, ..., -0.70933064,\n",
       "        0.76080735, -0.54110066])"
      ]
     },
     "execution_count": 22,
     "metadata": {},
     "output_type": "execute_result"
    }
   ],
   "source": [
    "# Generate an array of 10000 numbers according to a unit Gaussian distribution.\n",
    "x=rng.standard_normal(size=10000)\n",
    "\n",
    "#Shpw\n",
    "x"
   ]
  },
  {
   "cell_type": "code",
   "execution_count": 23,
   "metadata": {},
   "outputs": [
    {
     "data": {
      "text/plain": [
       "(array([  14.,  105.,  502., 1399., 2624., 2817., 1741.,  631.,  149.,\n",
       "          18.]),\n",
       " array([-3.77390799, -3.0358687 , -2.29782942, -1.55979014, -0.82175086,\n",
       "        -0.08371157,  0.65432771,  1.39236699,  2.13040627,  2.86844555,\n",
       "         3.60648484]),\n",
       " <BarContainer object of 10 artists>)"
      ]
     },
     "execution_count": 23,
     "metadata": {},
     "output_type": "execute_result"
    },
    {
     "data": {
      "image/png": "[encoded data removed]",
      "text/plain": [
       "<Figure size 640x480 with 1 Axes>"
      ]
     },
     "metadata": {},
     "output_type": "display_data"
    }
   ],
   "source": [
    "# Plot Histogram\n",
    "\n",
    "plt.hist(x, edgecolor=\"black\")"
   ]
  },
  {
   "cell_type": "markdown",
   "metadata": {},
   "source": [
    "***\n",
    "\n",
    "#### End"
   ]
  },
  {
   "cell_type": "code",
   "execution_count": null,
   "metadata": {},
   "outputs": [],
   "source": []
  }
 ],
 "metadata": {
  "kernelspec": {
   "display_name": "base",
   "language": "python",
   "name": "python3"
  },
  "language_info": {
   "codemirror_mode": {
    "name": "ipython",
    "version": 3
   },
   "file_extension": ".py",
   "mimetype": "text/x-python",
   "name": "python",
   "nbconvert_exporter": "python",
   "pygments_lexer": "ipython3",
   "version": "3.11.5"
  }
 },
 "nbformat": 4,
 "nbformat_minor": 2
}
