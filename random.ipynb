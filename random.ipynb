{
 "cells": [
  {
   "cell_type": "markdown",
   "metadata": {},
   "source": [
    "# Random Numbers\n",
    "\n",
    "***"
   ]
  },
  {
   "cell_type": "markdown",
   "metadata": {},
   "source": [
    "## PreRequisites\n",
    "\n",
    "***\n",
    "\n",
    "https://numpy.org/doc/stable/reference/random/"
   ]
  },
  {
   "cell_type": "code",
   "execution_count": 1,
   "metadata": {},
   "outputs": [],
   "source": [
    "# Numerical arrays an random numbers\n",
    "\n",
    "import numpy as np\n",
    "\n",
    "\n",
    "# Plot\n",
    "import matplotlib.pyplot as plt"
   ]
  },
  {
   "cell_type": "markdown",
   "metadata": {},
   "source": [
    "## Generate Random Integers\n",
    "\n",
    "***"
   ]
  },
  {
   "cell_type": "code",
   "execution_count": 2,
   "metadata": {},
   "outputs": [],
   "source": [
    "import random"
   ]
  },
  {
   "cell_type": "code",
   "execution_count": 3,
   "metadata": {},
   "outputs": [],
   "source": [
    "rng = np.random.default_rng()"
   ]
  },
  {
   "cell_type": "code",
   "execution_count": 4,
   "metadata": {},
   "outputs": [
    {
     "data": {
      "text/plain": [
       "0.5714783467870131"
      ]
     },
     "execution_count": 4,
     "metadata": {},
     "output_type": "execute_result"
    }
   ],
   "source": [
    "# Generate one random float uniformly distributed over the range [0, 1)\n",
    "rng.random()  "
   ]
  },
  {
   "cell_type": "code",
   "execution_count": 5,
   "metadata": {},
   "outputs": [
    {
     "data": {
      "text/plain": [
       "array([ 1.4459185 , -0.52896811,  2.40592224,  1.18503214,  1.21864497,\n",
       "        0.575441  , -2.06273396,  0.81223019, -0.06196341,  1.00886681])"
      ]
     },
     "execution_count": 5,
     "metadata": {},
     "output_type": "execute_result"
    }
   ],
   "source": [
    "# Generate an array of 10 numbers according to a unit Gaussian distribution.\n",
    "rng.standard_normal(10)"
   ]
  },
  {
   "cell_type": "code",
   "execution_count": 6,
   "metadata": {},
   "outputs": [
    {
     "data": {
      "text/plain": [
       "array([4, 8, 8, 3, 2], dtype=int64)"
      ]
     },
     "execution_count": 6,
     "metadata": {},
     "output_type": "execute_result"
    }
   ],
   "source": [
    "# Generate an array of 5 integers uniformly over the range [0, 10).\n",
    "rng.integers(low=0, high=10, size=5)"
   ]
  },
  {
   "cell_type": "code",
   "execution_count": 7,
   "metadata": {},
   "outputs": [
    {
     "data": {
      "text/plain": [
       "array([ 2,  4,  2,  3,  1,  7,  3, 10,  9,  3,  3,  4,  5,  5,  1,  1, 10,\n",
       "        8,  1,  5,  0,  3,  7,  6,  7,  8,  6,  2,  8,  1, 10,  8,  6,  7,\n",
       "        4,  5,  6,  5,  0,  4,  2, 10,  3,  6,  8,  2,  2,  5, 10,  7,  3,\n",
       "        6,  0,  2,  0,  0,  2,  1,  3,  2,  0,  3,  2,  1,  4,  6, 10,  1,\n",
       "       10,  6,  9,  3,  9,  5,  4,  2,  2,  5,  0,  2,  0,  4,  9,  7, 10,\n",
       "        6,  1,  3,  5,  8, 10,  0,  8,  0,  1,  0,  0,  3, 10,  4],\n",
       "      dtype=int64)"
      ]
     },
     "execution_count": 7,
     "metadata": {},
     "output_type": "execute_result"
    }
   ],
   "source": [
    "# Generate 10,000 integers over the range (0,10).\n",
    "\n",
    "x = rng.integers (low=0, high=10, size=100, endpoint=True)\n",
    "\n",
    "# Show x\n",
    "\n",
    "x\n"
   ]
  },
  {
   "cell_type": "code",
   "execution_count": 8,
   "metadata": {},
   "outputs": [
    {
     "data": {
      "text/plain": [
       "(array([ 0,  1,  2,  3,  4,  5,  6,  7,  8,  9, 10], dtype=int64),\n",
       " array([12, 10, 13, 12,  8,  9,  9,  6,  7,  4, 10], dtype=int64))"
      ]
     },
     "execution_count": 8,
     "metadata": {},
     "output_type": "execute_result"
    }
   ],
   "source": [
    "# Get the counts\n",
    "\n",
    "values, counts = np.unique (x, return_counts=True)\n",
    "\n",
    "# Show \n",
    "values, counts\n",
    "\n",
    "# Not very fancy as text"
   ]
  },
  {
   "cell_type": "code",
   "execution_count": 9,
   "metadata": {},
   "outputs": [
    {
     "data": {
      "text/plain": [
       "<BarContainer object of 11 artists>"
      ]
     },
     "execution_count": 9,
     "metadata": {},
     "output_type": "execute_result"
    },
    {
     "data": {
      "image/png": "[encoded data removed]",
      "text/plain": [
       "<Figure size 640x480 with 1 Axes>"
      ]
     },
     "metadata": {},
     "output_type": "display_data"
    }
   ],
   "source": [
    "# Plot the bar chart\n",
    "\n",
    "plt.bar(values, counts, edgecolor=\"black\")"
   ]
  },
  {
   "cell_type": "markdown",
   "metadata": {},
   "source": [
    "## Uniform Distribution\n",
    "\n",
    "***"
   ]
  },
  {
   "cell_type": "code",
   "execution_count": 10,
   "metadata": {},
   "outputs": [
    {
     "data": {
      "text/plain": [
       "array([5.93024812, 4.61907131, 9.84168385, ..., 5.07561273, 8.25838831,\n",
       "       7.24277785])"
      ]
     },
     "execution_count": 10,
     "metadata": {},
     "output_type": "execute_result"
    }
   ],
   "source": [
    "# Generate 10,000 floats uniformly distributed over the range [0,10)]\n",
    "# size remains an integer as it is not part of the distribution, it is counting.\n",
    "\n",
    "x = rng.uniform(low=0.0, high=10.0, size=10000)\n",
    "\n",
    "# Show\n",
    "x"
   ]
  },
  {
   "cell_type": "code",
   "execution_count": 11,
   "metadata": {},
   "outputs": [
    {
     "data": {
      "text/plain": [
       "(array([4.99919148e-04, 1.00307138e-03, 2.79601250e-03, ...,\n",
       "        9.99567228e+00, 9.99621470e+00, 9.99960404e+00]),\n",
       " array([1, 1, 1, ..., 1, 1, 1], dtype=int64),\n",
       " 10000,\n",
       " 10000)"
      ]
     },
     "execution_count": 11,
     "metadata": {},
     "output_type": "execute_result"
    }
   ],
   "source": [
    "# Get the counts\n",
    "\n",
    "values, counts = np.unique (x, return_counts=True)\n",
    "\n",
    "# Show \n",
    "values, counts, values.size, counts.size\n"
   ]
  },
  {
   "cell_type": "code",
   "execution_count": 12,
   "metadata": {},
   "outputs": [
    {
     "data": {
      "text/plain": [
       "array([1.10358835, 7.16003863, 5.09514153, 2.1349918 , 7.92247248,\n",
       "       0.11421898, 7.25649088, 9.57740963, 0.08511421, 5.12226378,\n",
       "       2.82311797, 2.27022013, 5.58161726, 9.28438863, 7.28696457,\n",
       "       3.25303049, 2.16991667, 8.24058121, 3.21016805, 3.75134985,\n",
       "       5.40217334, 6.99417687, 1.55376381, 1.246384  , 2.05524446,\n",
       "       0.79666643, 9.36184407, 0.50391724, 1.11655299, 6.25441271,\n",
       "       6.43112983, 8.92316871, 1.85097579, 5.0269538 , 5.56987061,\n",
       "       6.47565475, 8.49766477, 0.59345791, 5.67027607, 4.5882917 ,\n",
       "       1.00911664, 9.39127686, 2.4737003 , 1.61081427, 2.70970854,\n",
       "       9.23334555, 3.72870804, 5.99866857, 5.11519767, 9.35125316,\n",
       "       6.10730973, 2.90050437, 8.78315246, 1.46007906, 4.47218079,\n",
       "       3.27020417, 5.38424743, 1.78344002, 2.30399318, 6.40545366,\n",
       "       1.69976702, 2.21020573, 6.73236118, 7.02784078, 7.41519711,\n",
       "       0.94932191, 0.86266954, 0.82685883, 1.55066592, 7.43962525,\n",
       "       2.09230148, 4.26572357, 9.46393152, 3.60819428, 1.37332396,\n",
       "       5.74506001, 6.05757299, 7.98927027, 4.31479414, 0.90943542,\n",
       "       1.69804807, 3.22486811, 1.46113608, 1.00352908, 7.39886521,\n",
       "       2.67125378, 5.77774619, 3.76235573, 2.03839967, 5.03012819,\n",
       "       9.72264288, 5.93679076, 8.96829473, 3.1015632 , 4.55861937,\n",
       "       9.47849355, 3.34172575, 5.18262818, 2.60623332, 3.69315946])"
      ]
     },
     "execution_count": 12,
     "metadata": {},
     "output_type": "execute_result"
    }
   ],
   "source": [
    "# Generate 100 floats uniformly distributed over the range [0,10)]\n",
    "# size remains an integer as it is not part of the distribution, it is counting.\n",
    "\n",
    "x = rng.uniform(low=0.0, high=10.0, size=100)\n",
    "\n",
    "# Show\n",
    "x"
   ]
  },
  {
   "cell_type": "code",
   "execution_count": 16,
   "metadata": {},
   "outputs": [
    {
     "data": {
      "text/plain": [
       "(array([0.08511421, 0.11421898, 0.50391724, 0.59345791, 0.79666643,\n",
       "        0.82685883, 0.86266954, 0.90943542, 0.94932191, 1.00352908,\n",
       "        1.00911664, 1.10358835, 1.11655299, 1.246384  , 1.37332396,\n",
       "        1.46007906, 1.46113608, 1.55066592, 1.55376381, 1.61081427,\n",
       "        1.69804807, 1.69976702, 1.78344002, 1.85097579, 2.03839967,\n",
       "        2.05524446, 2.09230148, 2.1349918 , 2.16991667, 2.21020573,\n",
       "        2.27022013, 2.30399318, 2.4737003 , 2.60623332, 2.67125378,\n",
       "        2.70970854, 2.82311797, 2.90050437, 3.1015632 , 3.21016805,\n",
       "        3.22486811, 3.25303049, 3.27020417, 3.34172575, 3.60819428,\n",
       "        3.69315946, 3.72870804, 3.75134985, 3.76235573, 4.26572357,\n",
       "        4.31479414, 4.47218079, 4.55861937, 4.5882917 , 5.0269538 ,\n",
       "        5.03012819, 5.09514153, 5.11519767, 5.12226378, 5.18262818,\n",
       "        5.38424743, 5.40217334, 5.56987061, 5.58161726, 5.67027607,\n",
       "        5.74506001, 5.77774619, 5.93679076, 5.99866857, 6.05757299,\n",
       "        6.10730973, 6.25441271, 6.40545366, 6.43112983, 6.47565475,\n",
       "        6.73236118, 6.99417687, 7.02784078, 7.16003863, 7.25649088,\n",
       "        7.28696457, 7.39886521, 7.41519711, 7.43962525, 7.92247248,\n",
       "        7.98927027, 8.24058121, 8.49766477, 8.78315246, 8.92316871,\n",
       "        8.96829473, 9.23334555, 9.28438863, 9.35125316, 9.36184407,\n",
       "        9.39127686, 9.46393152, 9.47849355, 9.57740963, 9.72264288]),\n",
       " array([1, 1, 1, 1, 1, 1, 1, 1, 1, 1, 1, 1, 1, 1, 1, 1, 1, 1, 1, 1, 1, 1,\n",
       "        1, 1, 1, 1, 1, 1, 1, 1, 1, 1, 1, 1, 1, 1, 1, 1, 1, 1, 1, 1, 1, 1,\n",
       "        1, 1, 1, 1, 1, 1, 1, 1, 1, 1, 1, 1, 1, 1, 1, 1, 1, 1, 1, 1, 1, 1,\n",
       "        1, 1, 1, 1, 1, 1, 1, 1, 1, 1, 1, 1, 1, 1, 1, 1, 1, 1, 1, 1, 1, 1,\n",
       "        1, 1, 1, 1, 1, 1, 1, 1, 1, 1, 1, 1], dtype=int64))"
      ]
     },
     "execution_count": 16,
     "metadata": {},
     "output_type": "execute_result"
    }
   ],
   "source": [
    "# Get the counts\n",
    "\n",
    "values, counts = np.unique (x, return_counts=True)\n",
    "\n",
    "# Show \n",
    "values, counts\n",
    "\n",
    "# Not very fancy as text"
   ]
  },
  {
   "cell_type": "code",
   "execution_count": 17,
   "metadata": {},
   "outputs": [
    {
     "data": {
      "text/plain": [
       "<BarContainer object of 100 artists>"
      ]
     },
     "execution_count": 17,
     "metadata": {},
     "output_type": "execute_result"
    },
    {
     "data": {
      "image/png": "[encoded data removed]",
      "text/plain": [
       "<Figure size 640x480 with 1 Axes>"
      ]
     },
     "metadata": {},
     "output_type": "display_data"
    }
   ],
   "source": [
    "# Plot the bar chart\n",
    "\n",
    "plt.bar(values, counts, edgecolor='black')"
   ]
  },
  {
   "cell_type": "code",
   "execution_count": 14,
   "metadata": {},
   "outputs": [
    {
     "data": {
      "text/plain": [
       "(array([ 0.,  1.,  2.,  3.,  4.,  5.,  6.,  7.,  8.,  9., 10.]),\n",
       " array([ 2, 15, 16, 11,  8, 10, 13,  9,  4, 10,  2], dtype=int64),\n",
       " 11,\n",
       " 11)"
      ]
     },
     "execution_count": 14,
     "metadata": {},
     "output_type": "execute_result"
    }
   ],
   "source": [
    "# Round values in x\n",
    "x_rounded = np.round(x, decimals=0)\n",
    "\n",
    "# Get the counts\n",
    "\n",
    "values, counts = np.unique (x_rounded, return_counts=True)\n",
    "\n",
    "# Show \n",
    "values, counts, values.size, counts.size\n"
   ]
  },
  {
   "cell_type": "code",
   "execution_count": 15,
   "metadata": {},
   "outputs": [
    {
     "data": {
      "text/plain": [
       "<BarContainer object of 11 artists>"
      ]
     },
     "execution_count": 15,
     "metadata": {},
     "output_type": "execute_result"
    },
    {
     "data": {
      "image/png": "[encoded data removed]",
      "text/plain": [
       "<Figure size 640x480 with 1 Axes>"
      ]
     },
     "metadata": {},
     "output_type": "display_data"
    }
   ],
   "source": [
    "# Plot the bar chart\n",
    "\n",
    "plt.bar(values, counts, edgecolor='black')"
   ]
  },
  {
   "cell_type": "code",
   "execution_count": null,
   "metadata": {},
   "outputs": [],
   "source": []
  },
  {
   "cell_type": "markdown",
   "metadata": {},
   "source": [
    "***\n",
    "\n",
    "#### End"
   ]
  },
  {
   "cell_type": "code",
   "execution_count": null,
   "metadata": {},
   "outputs": [],
   "source": []
  }
 ],
 "metadata": {
  "kernelspec": {
   "display_name": "base",
   "language": "python",
   "name": "python3"
  },
  "language_info": {
   "codemirror_mode": {
    "name": "ipython",
    "version": 3
   },
   "file_extension": ".py",
   "mimetype": "text/x-python",
   "name": "python",
   "nbconvert_exporter": "python",
   "pygments_lexer": "ipython3",
   "version": "3.11.5"
  }
 },
 "nbformat": 4,
 "nbformat_minor": 2
}
