{
 "cells": [
  {
   "cell_type": "markdown",
   "metadata": {},
   "source": [
    "# Jane Eyre - A Mathematical Theory of Communication\n",
    "\n",
    "***\n",
    "\n",
    "[A Mathematical Theory of Communication by Claude Shannon](https://en.wikipedia.org/wiki/A_Mathematical_Theory_of_Communication)\n",
    "\n",
    "[The Mathematical Theory of Communication by Claude Shannon & Warren Weaver](https://pure.mpg.de/rest/items/item_2383164/component/file_2383163/content)\n"
   ]
  },
  {
   "cell_type": "markdown",
   "metadata": {},
   "source": [
    "## Imports"
   ]
  },
  {
   "cell_type": "code",
   "execution_count": 1,
   "metadata": {},
   "outputs": [],
   "source": [
    "# Import the random module from the Python Standard Library\n",
    "import random"
   ]
  },
  {
   "cell_type": "markdown",
   "metadata": {},
   "source": [
    "## Zero-order approximation\n",
    "\n",
    "Zero-order approximation is obtained by choosing all letters with the same probability and independently. The first-order approximation is obtained by choosing successive letters independently but each letter having the\n",
    "same probability that it has in the natural language."
   ]
  },
  {
   "cell_type": "code",
   "execution_count": 2,
   "metadata": {},
   "outputs": [],
   "source": [
    "# the allowed symbols\n",
    "symbols = \"ABCDEFGHIJKLMNOPQRSTUVWXYZ \""
   ]
  },
  {
   "cell_type": "markdown",
   "metadata": {},
   "source": [
    "Select several elements from symbols, with replacement. First random is ut back in the selection ot be chosen again.\n",
    "\n",
    "https://docs.python.org/3/library/random.html#random.choice\n",
    "\n"
   ]
  },
  {
   "cell_type": "code",
   "execution_count": 3,
   "metadata": {},
   "outputs": [
    {
     "data": {
      "text/plain": [
       "'ROS NRCGFBMYLHWGYCSLGFLF CKEDHC SQJHXZAUQOBXKUMFDOO WTFSMSCNALRVZOIDYBTYRQXHKXOYFJXT PAHUDQDALSVTHGB'"
      ]
     },
     "execution_count": 3,
     "metadata": {},
     "output_type": "execute_result"
    }
   ],
   "source": [
    "# randomly select k symbols frm the string above.\n",
    "\n",
    "L=random.choices(symbols, k=100)\n",
    "\n",
    "# show\n",
    "''.join(L)"
   ]
  },
  {
   "cell_type": "markdown",
   "metadata": {},
   "source": [
    "## First-order approximation \n",
    "\n",
    "symbols independent but with frequencies of English text"
   ]
  },
  {
   "cell_type": "code",
   "execution_count": 4,
   "metadata": {},
   "outputs": [],
   "source": [
    "# Open the book\n",
    "\n",
    "with open('data/janeeyre.txt', 'r') as f:\n",
    "    # Read the book in a long string\n",
    "    text = f.read().upper()"
   ]
  },
  {
   "cell_type": "code",
   "execution_count": 5,
   "metadata": {},
   "outputs": [],
   "source": [
    "# Counts the number of letters in the book\n",
    "\n",
    "counts = {s: text.count(s) for s in symbols}"
   ]
  },
  {
   "cell_type": "code",
   "execution_count": 6,
   "metadata": {},
   "outputs": [
    {
     "data": {
      "text/plain": [
       "{'A': 62860,\n",
       " 'B': 11161,\n",
       " 'C': 18771,\n",
       " 'D': 37462,\n",
       " 'E': 100508,\n",
       " 'F': 16889,\n",
       " 'G': 15093,\n",
       " 'H': 45904,\n",
       " 'I': 56073,\n",
       " 'J': 1223,\n",
       " 'K': 6035,\n",
       " 'L': 32495,\n",
       " 'M': 22285,\n",
       " 'N': 54288,\n",
       " 'O': 60583,\n",
       " 'P': 12143,\n",
       " 'Q': 948,\n",
       " 'R': 47417,\n",
       " 'S': 50123,\n",
       " 'T': 67127,\n",
       " 'U': 23495,\n",
       " 'V': 7629,\n",
       " 'W': 18705,\n",
       " 'X': 1277,\n",
       " 'Y': 17307,\n",
       " 'Z': 329,\n",
       " ' ': 168745}"
      ]
     },
     "execution_count": 6,
     "metadata": {},
     "output_type": "execute_result"
    }
   ],
   "source": [
    "# Show the counts\n",
    "\n",
    "counts"
   ]
  },
  {
   "cell_type": "code",
   "execution_count": 7,
   "metadata": {},
   "outputs": [
    {
     "data": {
      "text/plain": [
       "100508"
      ]
     },
     "execution_count": 7,
     "metadata": {},
     "output_type": "execute_result"
    }
   ],
   "source": [
    "# The number of e's\n",
    "\n",
    "counts ['E']"
   ]
  },
  {
   "cell_type": "code",
   "execution_count": 8,
   "metadata": {},
   "outputs": [
    {
     "data": {
      "text/plain": [
       "27"
      ]
     },
     "execution_count": 8,
     "metadata": {},
     "output_type": "execute_result"
    }
   ],
   "source": [
    "# Number of different items\n",
    "\n",
    "len(counts)"
   ]
  },
  {
   "cell_type": "code",
   "execution_count": 9,
   "metadata": {},
   "outputs": [
    {
     "data": {
      "text/plain": [
       "[(' ', 168745),\n",
       " ('E', 100508),\n",
       " ('T', 67127),\n",
       " ('A', 62860),\n",
       " ('O', 60583),\n",
       " ('I', 56073),\n",
       " ('N', 54288),\n",
       " ('S', 50123),\n",
       " ('R', 47417),\n",
       " ('H', 45904),\n",
       " ('D', 37462),\n",
       " ('L', 32495),\n",
       " ('U', 23495),\n",
       " ('M', 22285),\n",
       " ('C', 18771),\n",
       " ('W', 18705),\n",
       " ('Y', 17307),\n",
       " ('F', 16889),\n",
       " ('G', 15093),\n",
       " ('P', 12143),\n",
       " ('B', 11161),\n",
       " ('V', 7629),\n",
       " ('K', 6035),\n",
       " ('X', 1277),\n",
       " ('J', 1223),\n",
       " ('Q', 948),\n",
       " ('Z', 329)]"
      ]
     },
     "execution_count": 9,
     "metadata": {},
     "output_type": "execute_result"
    }
   ],
   "source": [
    "# Show the items in counts in sorted order\n",
    "# Order a python dictionary by values\n",
    "# Adapted from https://stackoverflow.com/a/613218\n",
    "\n",
    "sorted(counts.items(), key=lambda item: -item[1])"
   ]
  },
  {
   "cell_type": "code",
   "execution_count": 10,
   "metadata": {},
   "outputs": [
    {
     "data": {
      "text/plain": [
       "dict_keys(['A', 'B', 'C', 'D', 'E', 'F', 'G', 'H', 'I', 'J', 'K', 'L', 'M', 'N', 'O', 'P', 'Q', 'R', 'S', 'T', 'U', 'V', 'W', 'X', 'Y', 'Z', ' '])"
      ]
     },
     "execution_count": 10,
     "metadata": {},
     "output_type": "execute_result"
    }
   ],
   "source": [
    "# The dictionary keys\n",
    "\n",
    "counts.keys()"
   ]
  },
  {
   "cell_type": "code",
   "execution_count": 11,
   "metadata": {},
   "outputs": [
    {
     "data": {
      "text/plain": [
       "dict_values([62860, 11161, 18771, 37462, 100508, 16889, 15093, 45904, 56073, 1223, 6035, 32495, 22285, 54288, 60583, 12143, 948, 47417, 50123, 67127, 23495, 7629, 18705, 1277, 17307, 329, 168745])"
      ]
     },
     "execution_count": 11,
     "metadata": {},
     "output_type": "execute_result"
    }
   ],
   "source": [
    "# The dictionary values\n",
    "\n",
    "counts.values()"
   ]
  },
  {
   "cell_type": "code",
   "execution_count": 12,
   "metadata": {},
   "outputs": [
    {
     "data": {
      "text/plain": [
       "'THOTIINNF EIOTNEEOVATE IATNSASI ES W AK D NIKT  ENNSBLMSZROSI  THHIENEUYH EB YD  EHERO CLAORAARTNVHS'"
      ]
     },
     "execution_count": 12,
     "metadata": {},
     "output_type": "execute_result"
    }
   ],
   "source": [
    "# randomly select k symbols frm the string above.\n",
    "\n",
    "L=random.choices(list(counts.keys()), weights=list(counts.values()), k=100)\n",
    "\n",
    "# show\n",
    "''.join(L)"
   ]
  },
  {
   "cell_type": "markdown",
   "metadata": {},
   "source": [
    "## Second-order approximation\n",
    "\n",
    "Diagram structure as in English\n",
    "Look at the letter before & condition the next letter based on the previous."
   ]
  },
  {
   "cell_type": "code",
   "execution_count": 13,
   "metadata": {},
   "outputs": [
    {
     "data": {
      "text/plain": [
       "(['AA', 'AB', 'AC', 'AD', 'AE', 'AF', 'AG', 'AH', 'AI', 'AJ'],\n",
       " [' R', ' S', ' T', ' U', ' V', ' W', ' X', ' Y', ' Z', '  '])"
      ]
     },
     "execution_count": 13,
     "metadata": {},
     "output_type": "execute_result"
    }
   ],
   "source": [
    "\n",
    "# Pairs of symbols\n",
    "\n",
    "symsq = [a + b for a in symbols for b in symbols]\n",
    "\n",
    "#Show first \n",
    "# symsq[:20]\n",
    "\n",
    "# Show first and last 10\n",
    "symsq[:10], symsq[-10:]\n",
    "\n"
   ]
  },
  {
   "cell_type": "code",
   "execution_count": 14,
   "metadata": {},
   "outputs": [],
   "source": [
    "# Counts the number of double letters in the book\n",
    "\n",
    "countsq = {s: text.count(s) for s in symsq}"
   ]
  },
  {
   "cell_type": "code",
   "execution_count": 15,
   "metadata": {},
   "outputs": [
    {
     "data": {
      "text/plain": [
       "3"
      ]
     },
     "execution_count": 15,
     "metadata": {},
     "output_type": "execute_result"
    }
   ],
   "source": [
    "# Example\n",
    "\n",
    "countsq['AA']"
   ]
  },
  {
   "cell_type": "code",
   "execution_count": 16,
   "metadata": {},
   "outputs": [
    {
     "data": {
      "text/plain": [
       "5239"
      ]
     },
     "execution_count": 16,
     "metadata": {},
     "output_type": "execute_result"
    }
   ],
   "source": [
    "# Another Example\n",
    "\n",
    "countsq['EA']"
   ]
  },
  {
   "cell_type": "code",
   "execution_count": 17,
   "metadata": {},
   "outputs": [],
   "source": [
    "# Our eventual output\n",
    "\n",
    "output = 'T'"
   ]
  },
  {
   "cell_type": "code",
   "execution_count": 18,
   "metadata": {},
   "outputs": [
    {
     "data": {
      "text/plain": [
       "{'A': 2263,\n",
       " 'B': 2,\n",
       " 'C': 310,\n",
       " 'D': 3,\n",
       " 'E': 6382,\n",
       " 'F': 52,\n",
       " 'G': 1,\n",
       " 'H': 18811,\n",
       " 'I': 4190,\n",
       " 'J': 0,\n",
       " 'K': 0,\n",
       " 'L': 1079,\n",
       " 'M': 92,\n",
       " 'N': 83,\n",
       " 'O': 7190,\n",
       " 'P': 0,\n",
       " 'Q': 0,\n",
       " 'R': 1926,\n",
       " 'S': 1100,\n",
       " 'T': 1368,\n",
       " 'U': 1258,\n",
       " 'V': 0,\n",
       " 'W': 394,\n",
       " 'X': 0,\n",
       " 'Y': 836,\n",
       " 'Z': 4,\n",
       " ' ': 15030}"
      ]
     },
     "execution_count": 18,
     "metadata": {},
     "output_type": "execute_result"
    }
   ],
   "source": [
    "# The counts for keys beginning with the last letter\n",
    "# conditional counts\n",
    "# Create a new dictionary called condcounts\n",
    "# with the amount of times T shows up with another letter  - s\n",
    "\n",
    "condcounts = {s: countsq[output[-1] + s] for s in symbols}\n",
    "\n",
    "# Show\n",
    "\n",
    "condcounts\n",
    "\n"
   ]
  },
  {
   "cell_type": "code",
   "execution_count": 21,
   "metadata": {},
   "outputs": [
    {
     "data": {
      "text/plain": [
       "['H']"
      ]
     },
     "execution_count": 21,
     "metadata": {},
     "output_type": "execute_result"
    }
   ],
   "source": [
    "# randomly select the next symbol using the conditional weights.\n",
    "\n",
    "random.choices(list(condcounts.keys()), weights=list(condcounts.values()), k=1)\n"
   ]
  },
  {
   "cell_type": "code",
   "execution_count": 27,
   "metadata": {},
   "outputs": [
    {
     "data": {
      "text/plain": [
       "'THE FIEGEGE FIO CE GE MACLLAD ITH CERVE ANSMAKERONETRGUSINE WERINOWINT RED THATHANOR WAND ICYEMY MEL'"
      ]
     },
     "execution_count": 27,
     "metadata": {},
     "output_type": "execute_result"
    }
   ],
   "source": [
    "# Our eventual output\n",
    "output = 'T'\n",
    "\n",
    "for i in range (1, 100):\n",
    "    # The counts for keys beginning with the last letter\n",
    "    condcounts={s:countsq[output[-1] + s] for s in symbols}\n",
    "    # The next letter random\n",
    "    next = random.choices(list(condcounts.keys()), weights=list(condcounts.values()), k=1)[0]\n",
    "    # Add to the output\n",
    "    output += next\n",
    "    \n",
    "#Show\n",
    "output\n"
   ]
  },
  {
   "cell_type": "markdown",
   "metadata": {},
   "source": [
    "***\n",
    "\n",
    "# End"
   ]
  }
 ],
 "metadata": {
  "kernelspec": {
   "display_name": "base",
   "language": "python",
   "name": "python3"
  },
  "language_info": {
   "codemirror_mode": {
    "name": "ipython",
    "version": 3
   },
   "file_extension": ".py",
   "mimetype": "text/x-python",
   "name": "python",
   "nbconvert_exporter": "python",
   "pygments_lexer": "ipython3",
   "version": "3.11.5"
  }
 },
 "nbformat": 4,
 "nbformat_minor": 2
}
