{
 "cells": [
  {
   "cell_type": "markdown",
   "metadata": {},
   "source": [
    "# Information\n",
    "\n",
    "***"
   ]
  },
  {
   "cell_type": "markdown",
   "metadata": {},
   "source": [
    "### Decimal, Buinary, Hexadecimal\n",
    "\n"
   ]
  },
  {
   "cell_type": "code",
   "execution_count": 5,
   "metadata": {},
   "outputs": [
    {
     "name": "stdout",
     "output_type": "stream",
     "text": [
      " 0 0000 0\n",
      " 1 0001 1\n",
      " 2 0010 2\n",
      " 3 0011 3\n",
      " 4 0100 4\n",
      " 5 0101 5\n",
      " 6 0110 6\n",
      " 7 0111 7\n",
      " 8 1000 8\n",
      " 9 1001 9\n",
      "10 1010 a\n",
      "11 1011 b\n",
      "12 1100 c\n",
      "13 1101 d\n",
      "14 1110 e\n",
      "15 1111 f\n"
     ]
    }
   ],
   "source": [
    "# Conversion Table\n",
    "\n",
    "for i in range(16):\n",
    "    print(f\"{i:2} {i:04b} {i:x}\")           # {i:b} print out i in binary. Put 04 if you want to align to 4 spaces.   {i:x} print i in HD\n",
    "                                        # {i:2} puts i to right justified"
   ]
  },
  {
   "cell_type": "markdown",
   "metadata": {},
   "source": [
    "## Sequence 1\n",
    "\n",
    "48,\n",
    "65,\n",
    "6c,\n",
    "6c,\n",
    "6f,\n",
    "2c,\n",
    "20,\n",
    "77,\n",
    "6f,\n",
    "72,\n",
    "6c,\n",
    "64,\n",
    "21,"
   ]
  },
  {
   "cell_type": "code",
   "execution_count": 1,
   "metadata": {},
   "outputs": [],
   "source": [
    "data=[\n",
    "    0x48, 0x65,0x6c,0x6c,0x6f,0x2c,0x20,\n",
    "    0x77,0x6f,0x72,0x6c,0x64,0x21,\n",
    "    ]\n"
   ]
  },
  {
   "cell_type": "code",
   "execution_count": 6,
   "metadata": {},
   "outputs": [
    {
     "name": "stdout",
     "output_type": "stream",
     "text": [
      "H\n",
      "e\n",
      "l\n",
      "l\n",
      "o\n",
      ",\n",
      " \n",
      "w\n",
      "o\n",
      "r\n",
      "l\n",
      "d\n",
      "!\n"
     ]
    }
   ],
   "source": [
    "#Loop through the bytes and convert using the ASCII table\n",
    "\n",
    "for d in data:\n",
    "    print(chr(d))\n"
   ]
  },
  {
   "cell_type": "code",
   "execution_count": 7,
   "metadata": {},
   "outputs": [
    {
     "data": {
      "text/plain": [
       "'Hello, world!'"
      ]
     },
     "execution_count": 7,
     "metadata": {},
     "output_type": "execute_result"
    }
   ],
   "source": [
    "# A quicker way\n",
    "\n",
    "''.join([chr(d) for d in data])"
   ]
  },
  {
   "cell_type": "markdown",
   "metadata": {},
   "source": [
    "## Sequence 2\n",
    "\n",
    "***\n",
    "\n",
    "00,01,03,05,0a,0f,15,1c,24,2d,37,42,4e,"
   ]
  },
  {
   "cell_type": "code",
   "execution_count": 8,
   "metadata": {},
   "outputs": [],
   "source": [
    "data=[\n",
    "    0x00,0x01,0x03,0x05,0x0a,0x0f,\n",
    "    0x15,0x1c,0x24,0x2d,0x37,0x42,0x4e,\n",
    "]"
   ]
  },
  {
   "cell_type": "code",
   "execution_count": 9,
   "metadata": {},
   "outputs": [
    {
     "data": {
      "text/plain": [
       "'\\x00\\x01\\x03\\x05\\n\\x0f\\x15\\x1c$-7BN'"
      ]
     },
     "execution_count": 9,
     "metadata": {},
     "output_type": "execute_result"
    }
   ],
   "source": [
    "# Try to conVert to ASCII. Cannot do it\n",
    "\n",
    "''.join([chr(d) for d in data])"
   ]
  },
  {
   "cell_type": "code",
   "execution_count": 10,
   "metadata": {},
   "outputs": [
    {
     "data": {
      "text/plain": [
       "[0, 1, 3, 5, 10, 15, 21, 28, 36, 45, 55, 66, 78]"
      ]
     },
     "execution_count": 10,
     "metadata": {},
     "output_type": "execute_result"
    }
   ],
   "source": [
    "# Show the array (present it in decimal)\n",
    "\n",
    "data"
   ]
  },
  {
   "cell_type": "markdown",
   "metadata": {},
   "source": [
    "## How many different symbols can we represent with one Byte?"
   ]
  },
  {
   "cell_type": "markdown",
   "metadata": {},
   "source": [
    "One byte is eight bits\n",
    "Each bit has two possible values: 0 or 1\n",
    "\n",
    "### Example\n",
    "\n",
    "Two bits:\n",
    "\n",
    " _ _\n",
    "\n",
    "0 0\n",
    "\n",
    "0 1\n",
    "\n",
    "1 0\n",
    "\n",
    "1 1\n",
    "\n",
    "Four different \"things\" can be represented by two bits.\n"
   ]
  },
  {
   "cell_type": "markdown",
   "metadata": {},
   "source": [
    "## Formula\n",
    "\n",
    "$n$ bits give $2^n$ things"
   ]
  },
  {
   "cell_type": "code",
   "execution_count": 1,
   "metadata": {},
   "outputs": [
    {
     "data": {
      "text/plain": [
       "256"
      ]
     },
     "execution_count": 1,
     "metadata": {},
     "output_type": "execute_result"
    }
   ],
   "source": [
    "# Number of different bytes in ascii\n",
    "\n",
    "2**8"
   ]
  },
  {
   "cell_type": "markdown",
   "metadata": {},
   "source": [
    "***\n",
    "\n",
    "## End"
   ]
  },
  {
   "cell_type": "markdown",
   "metadata": {},
   "source": []
  }
 ],
 "metadata": {
  "kernelspec": {
   "display_name": "base",
   "language": "python",
   "name": "python3"
  },
  "language_info": {
   "codemirror_mode": {
    "name": "ipython",
    "version": 3
   },
   "file_extension": ".py",
   "mimetype": "text/x-python",
   "name": "python",
   "nbconvert_exporter": "python",
   "pygments_lexer": "ipython3",
   "version": "3.11.5"
  }
 },
 "nbformat": 4,
 "nbformat_minor": 2
}
